{
  "nbformat": 4,
  "nbformat_minor": 0,
  "metadata": {
    "colab": {
      "provenance": [],
      "authorship_tag": "ABX9TyO9U01nzZVu+4c5YROmCd8+",
      "include_colab_link": true
    },
    "kernelspec": {
      "name": "python3",
      "display_name": "Python 3"
    },
    "language_info": {
      "name": "python"
    }
  },
  "cells": [
    {
      "cell_type": "markdown",
      "metadata": {
        "id": "view-in-github",
        "colab_type": "text"
      },
      "source": [
        "<a href=\"https://colab.research.google.com/github/PPareun/DeepLearningTextBook/blob/main/Keyword_Extractor/Keyword_From_SUM/TextBert_SUM_Implement.ipynb\" target=\"_parent\"><img src=\"https://colab.research.google.com/assets/colab-badge.svg\" alt=\"Open In Colab\"/></a>"
      ]
    },
    {
      "cell_type": "code",
      "source": [
        " from google.colab import drive\n",
        " drive.mount('/content/drive')"
      ],
      "metadata": {
        "colab": {
          "base_uri": "https://localhost:8080/"
        },
        "id": "8zVsZGZMiClq",
        "outputId": "a222c256-94b0-483f-a087-2b93c0538e93"
      },
      "execution_count": 1,
      "outputs": [
        {
          "output_type": "stream",
          "name": "stdout",
          "text": [
            "Drive already mounted at /content/drive; to attempt to forcibly remount, call drive.mount(\"/content/drive\", force_remount=True).\n"
          ]
        }
      ]
    },
    {
      "cell_type": "code",
      "source": [
        "!pip install transformers[sentencespiece]"
      ],
      "metadata": {
        "id": "oKcZq7ptmena"
      },
      "execution_count": null,
      "outputs": []
    },
    {
      "cell_type": "code",
      "source": [
        "import transformers"
      ],
      "metadata": {
        "id": "xo8qnbWtm25X"
      },
      "execution_count": 3,
      "outputs": []
    },
    {
      "cell_type": "code",
      "source": [
        "import torch"
      ],
      "metadata": {
        "id": "Rs0HrjQu5oaB"
      },
      "execution_count": 4,
      "outputs": []
    },
    {
      "cell_type": "code",
      "source": [
        "from sklearn.model_selection import train_test_split\n",
        "from torch.optim import Adam\n",
        "from torch.nn import functional as F\n",
        "from transformers import BertTokenizer, BertModel"
      ],
      "metadata": {
        "id": "JeViOfLMmXSy"
      },
      "execution_count": 5,
      "outputs": []
    },
    {
      "cell_type": "code",
      "execution_count": 6,
      "metadata": {
        "id": "eh5PE-vliWHX"
      },
      "outputs": [],
      "source": [
        "import pandas as pd"
      ]
    },
    {
      "cell_type": "code",
      "source": [
        "Train = pd.read_csv('/content/drive/MyDrive/Colab Notebooks/train.csv')"
      ],
      "metadata": {
        "id": "5hgkGyZkhshU"
      },
      "execution_count": 7,
      "outputs": []
    },
    {
      "cell_type": "code",
      "source": [
        "Test = pd.read_csv('/content/drive/MyDrive/Colab Notebooks/test.csv')\n",
        "Val = pd.read_csv('/content/drive/MyDrive/Colab Notebooks/validation.csv')"
      ],
      "metadata": {
        "id": "cZBf-N4Wic6c"
      },
      "execution_count": 9,
      "outputs": []
    },
    {
      "cell_type": "code",
      "source": [
        "tokenizer = BertTokenizer.from_pretrained('bert-base-uncased', do_lower=True)"
      ],
      "metadata": {
        "id": "CQw4hOkpknIU"
      },
      "execution_count": 7,
      "outputs": []
    },
    {
      "cell_type": "code",
      "source": [
        "class DataFetch():\n",
        "  def __init__(self, index):\n",
        "    if index == 'Train':\n",
        "      self.data = Train\n",
        "    elif index == 'Val':\n",
        "      self.data = Val\n",
        "    elif index == 'Test':\n",
        "      self.data = Test\n",
        "  def extractor(self,index):\n",
        "    article_texts = self.data['article'][index].strip().split('.')\n",
        "    article_sentences = [(sent + '.') for sent in article_texts][:-1]\n",
        "    sum_texts = self.data['highlights'][index].strip().split('\\n')\n",
        "    sum_sentences = [sent for sent in sum_texts]\n",
        "    \n",
        "    return article_sentences, sum_sentences"
      ],
      "metadata": {
        "id": "vaYYuZtPmWEf"
      },
      "execution_count": 9,
      "outputs": []
    },
    {
      "cell_type": "code",
      "source": [
        "!pip install rouge"
      ],
      "metadata": {
        "colab": {
          "base_uri": "https://localhost:8080/"
        },
        "id": "T-qYimmX6CBa",
        "outputId": "25406030-9d41-4efc-b77a-d35dadb7064a"
      },
      "execution_count": 10,
      "outputs": [
        {
          "output_type": "stream",
          "name": "stdout",
          "text": [
            "Looking in indexes: https://pypi.org/simple, https://us-python.pkg.dev/colab-wheels/public/simple/\n",
            "Requirement already satisfied: rouge in /usr/local/lib/python3.8/dist-packages (1.0.1)\n",
            "Requirement already satisfied: six in /usr/local/lib/python3.8/dist-packages (from rouge) (1.15.0)\n"
          ]
        }
      ]
    },
    {
      "cell_type": "code",
      "source": [
        "y = []"
      ],
      "metadata": {
        "id": "0RqoCLtR5V_V"
      },
      "execution_count": 11,
      "outputs": []
    },
    {
      "cell_type": "code",
      "source": [
        "for i in range(len(Train)):\n",
        "  art, sum = DataFetch(index = 'Train').extractor(i)\n",
        "  count = 0\n",
        "  y_data = [0] * len(art)\n",
        "  for sum_ in sum:\n",
        "    MAX = 0\n",
        "    BEST = -1\n",
        "    for index, art_ in enumerate(art):\n",
        "      MAAX = MAX\n",
        "      try:\n",
        "        MAX = max(MAX,rouge.get_scores(art_,sum_, avg = True)[\"rouge-2\"][\"f\"])\n",
        "        if(MAX!=MAAX):\n",
        "          BEST = index\n",
        "      except:\n",
        "        count += 1\n",
        "    if(BEST>-1):\n",
        "      y_data[BEST] = 1\n",
        "  y.append(y_data)"
      ],
      "metadata": {
        "id": "xyod4AJRA0DG"
      },
      "execution_count": 14,
      "outputs": []
    },
    {
      "cell_type": "code",
      "source": [
        "class Embedding():\n",
        "  def __init__(self, sentences):\n",
        "    self.sentences = sentences\n",
        "  def embedding(self):\n",
        "    #Word Embedding\n",
        "    word_embedding = [tokenizer.encode(sentence) for sentence in self.sentences]\n",
        "    pad_size = 512\n",
        "    word_emb = []\n",
        "    count = 0\n",
        "    #Masked CLS\n",
        "    mask_cls = [0] * pad_size\n",
        "    #Word Embedding to 1d\n",
        "    for words in word_embedding:\n",
        "      #length truncate\n",
        "      if(count + len(words)>pad_size):\n",
        "        break\n",
        "      else:\n",
        "        mask_cls[count] = 1\n",
        "        count += len(words)\n",
        "        word_emb.extend(words)\n",
        "\n",
        "    #Segment Embedding\n",
        "    segment_emb = []\n",
        "    for index in range(len(word_embedding)):\n",
        "      segment = [index%2] * len(word_embedding[index])\n",
        "      segment_emb.extend(segment)\n",
        "\n",
        "    #Padding\n",
        "    padded_word_emb = word_emb + [tokenizer.pad_token_id] * (pad_size - count)\n",
        "    padded_segment_emb = segment_emb[:count] + [tokenizer.pad_token_id] * (pad_size - count)\n",
        "    attention_mask = [1]*count + [0]*(pad_size-count)\n",
        "    clss = [i for i, d in enumerate(word_emb) if d == tokenizer.vocab[\"[CLS]\"]]\n",
        "    return torch.tensor(padded_word_emb), torch.tensor(padded_segment_emb), torch.tensor(attention_mask), torch.tensor(clss)"
      ],
      "metadata": {
        "id": "Fyika9QdyDCh"
      },
      "execution_count": 12,
      "outputs": []
    },
    {
      "cell_type": "code",
      "source": [
        "word_emb, seg_emb, attention_mask, clss = Embedding(DataFetch('Train').extractor(3000)[0]).embedding()\n",
        "print(seg_emb)"
      ],
      "metadata": {
        "id": "k2QwfCUx5Vys"
      },
      "execution_count": null,
      "outputs": []
    },
    {
      "cell_type": "code",
      "source": [
        "word_emb, seg_emb, attention_mask, clss = [], [], [], []"
      ],
      "metadata": {
        "id": "FSAK5HRJ4TTG"
      },
      "execution_count": 13,
      "outputs": []
    },
    {
      "cell_type": "code",
      "source": [
        "\"\"\"for i in range(len(Train)):\n",
        "  w,s,a,c = Embedding(DataFetch('Train').extractor(i)[0]).embedding()\n",
        "  word_emb.append(w)\n",
        "  seg_emb.append(s)\n",
        "  attention_mask.append(a)\n",
        "  clss.append(c)"
      ],
      "metadata": {
        "id": "FJrNLjpg4aZ_"
      },
      "execution_count": null,
      "outputs": []
    },
    {
      "cell_type": "code",
      "source": [
        "import pickle\n",
        "with open(\"/content/drive/MyDrive/word_emb.pkl\",\"rb\") as fw:\n",
        "    word_emb = pickle.load(fw)\n",
        "with open(\"/content/drive/MyDrive/seg_emb.pkl\",\"rb\") as fw:\n",
        "    seg_emb = pickle.load(fw)\n",
        "with open(\"/content/drive/MyDrive/attention_mask.pkl\",\"rb\") as fw:\n",
        "    attention_mask = pickle.load(fw)\n",
        "with open(\"/content/drive/MyDrive/clss.pkl\",\"rb\") as fw:\n",
        "    clss = pickle.load(fw)\n",
        "with open(\"/content/drive/MyDrive/y.pkl\",\"rb\") as fw:\n",
        "    y = pickle.load(fw)"
      ],
      "metadata": {
        "id": "uPQroymGV2Pd"
      },
      "execution_count": 6,
      "outputs": []
    },
    {
      "cell_type": "code",
      "source": [
        "clss_ten = []\n",
        "y_ten = []"
      ],
      "metadata": {
        "id": "liieoJH4gzLO"
      },
      "execution_count": 7,
      "outputs": []
    },
    {
      "cell_type": "code",
      "source": [
        "for i in range(len(clss)):\n",
        "  clss_ten.append(torch.cat([clss[i], torch.tensor([-1]*(512-clss[i].size(dim = 0)))], dim = 0))\n",
        "  y_ten.append(torch.tensor(y[i][:512] + [0] * (512-len(y[i]))))"
      ],
      "metadata": {
        "id": "cLVtfLOZbTTA"
      },
      "execution_count": 8,
      "outputs": []
    },
    {
      "cell_type": "code",
      "source": [
        "word_emb_tensor = torch.stack(word_emb, 0)\n",
        "seg_emb_tensor = torch.stack(seg_emb, 0)\n",
        "attention_mask_tensor = torch.stack(attention_mask, 0)\n",
        "clss_tensor = torch.stack(clss_ten, 0)\n",
        "y_tensor = torch.stack(y_ten, 0)"
      ],
      "metadata": {
        "id": "DkotYFyzRUTr"
      },
      "execution_count": 9,
      "outputs": []
    },
    {
      "cell_type": "code",
      "source": [
        "from torch.utils.data import TensorDataset, random_split\n",
        "dataset = TensorDataset(word_emb_tensor, seg_emb_tensor, attention_mask_tensor, clss_tensor, y_tensor)\n",
        "train_size = int(0.9 * len(dataset))\n",
        "val_size = len(dataset) - train_size\n",
        "train_dataset, val_dataset = random_split(dataset, [train_size, val_size])"
      ],
      "metadata": {
        "id": "25sAwK688Xil"
      },
      "execution_count": 10,
      "outputs": []
    },
    {
      "cell_type": "code",
      "source": [
        "from torch.utils.data import DataLoader, RandomSampler, SequentialSampler\n",
        "batch_size = 16\n",
        "train_dataloader = DataLoader(\n",
        "            train_dataset, \n",
        "            sampler = RandomSampler(train_dataset),\n",
        "            batch_size = batch_size\n",
        "        )\n",
        "validation_dataloader = DataLoader(\n",
        "            val_dataset, \n",
        "            sampler = SequentialSampler(val_dataset),\n",
        "            batch_size = batch_size\n",
        "        )\n"
      ],
      "metadata": {
        "id": "068eEJiN8oFv"
      },
      "execution_count": 11,
      "outputs": []
    },
    {
      "cell_type": "code",
      "source": [
        "import torch.nn as nn\n",
        "from transformers import BertModel"
      ],
      "metadata": {
        "id": "-8HL8nld_VBf"
      },
      "execution_count": 12,
      "outputs": []
    },
    {
      "cell_type": "code",
      "source": [
        "import math\n",
        "class PositionalEncoding(nn.Module):\n",
        "\n",
        "    def __init__(self, dropout: float = 0.1):\n",
        "        super().__init__()\n",
        "        self.dropout = nn.Dropout(p=dropout)\n",
        "\n",
        "        position = torch.arange(512).unsqueeze(1)\n",
        "        div_term = torch.exp(torch.arange(0, 512, 2) * (-math.log(10000.0) / 512))\n",
        "        pe = torch.zeros(512, 1, 512)\n",
        "        pe[:, 0, 0::2] = torch.sin(position * div_term)\n",
        "        pe[:, 0, 1::2] = torch.cos(position * div_term)\n",
        "        self.register_buffer('pe', pe)\n",
        "\n",
        "    def forward(self, x: torch.Tensor) -> torch.Tensor:\n",
        "        x = x + self.pe[:x.size(0)]\n",
        "        return self.dropout(x)"
      ],
      "metadata": {
        "id": "EzXRzCgQkViT"
      },
      "execution_count": 13,
      "outputs": []
    },
    {
      "cell_type": "code",
      "source": [
        "class BERTSUM(nn.Module):\n",
        "  def __init__(self):\n",
        "    super(BERTSUM, self).__init__()\n",
        "    self.bert = BertModel.from_pretrained(\"bert-base-uncased\")\n",
        "    self.pos_emb = PositionalEncoding()\n",
        "    self.encoder = nn.TransformerEncoderLayer(d_model=512, nhead=8)\n",
        "    self.linear = nn.Linear(512, 1, bias = True)\n",
        "    self.sigmoid = nn.Sigmoid()\n",
        "  def forward(self, word_emb, seg_emb, attn_mask, clss):\n",
        "    output, _ = self.bert(input_ids = word_emb, attention_mask = attn_mask, token_type_ids = seg_emb)\n",
        "    output = output[-1]\n",
        "    output = output[torch.arange(output.size(0)).unsqueeze(1), clss]\n",
        "    mask_cls = clss + [0] * (512-len(clss))\n",
        "    output = output * mask_cls[:, :, None].float()\n",
        "    output = output + self.pos_emb(output)\n",
        "    output = self.encoder(output)\n",
        "    output = self.encoder(output)\n",
        "    output = self.linear(output)\n",
        "    output = self.sigmoid()\n",
        "\n",
        "    return output, mask_cls"
      ],
      "metadata": {
        "id": "IjFi3kP1oz7v"
      },
      "execution_count": 20,
      "outputs": []
    },
    {
      "cell_type": "code",
      "source": [
        "A = torch.tensor([[1,2,3,4],[2,3,4,5],[3,4,5,6],[3,4,5,6],[3,4,5,6],[3,4,5,6]])\n",
        "B = torch.tensor([[1,2,0],[2,3,0],[1,2,0],[1,2,0],[1,2,0],[1,2,0]])\n",
        "C = torch.tensor([[1,1,0],[1,1,0],[1,1,0],[1,0,1],[0,0,1],[0,0,1]])\n",
        "A[torch.arange(A.size(0)).unsqueeze(1), B] * C"
      ],
      "metadata": {
        "colab": {
          "base_uri": "https://localhost:8080/"
        },
        "id": "kAQsuc33m5ev",
        "outputId": "d756465d-8b96-4600-d8f9-7276c32c36be"
      },
      "execution_count": 19,
      "outputs": [
        {
          "output_type": "execute_result",
          "data": {
            "text/plain": [
              "tensor([[2, 3, 0],\n",
              "        [4, 5, 0],\n",
              "        [4, 5, 0],\n",
              "        [4, 0, 3],\n",
              "        [0, 0, 3],\n",
              "        [0, 0, 3]])"
            ]
          },
          "metadata": {},
          "execution_count": 19
        }
      ]
    },
    {
      "cell_type": "code",
      "source": [
        "model = BERTSUM()\n",
        "print(model)"
      ],
      "metadata": {
        "id": "Eeul19bd-oHN"
      },
      "execution_count": null,
      "outputs": []
    },
    {
      "cell_type": "code",
      "source": [
        "import torch.optim as optim\n",
        "optimizer = optim.Adam(model.parameters(),lr = 2e-5, eps = 1e-6)"
      ],
      "metadata": {
        "id": "5JZ4OzxH82Pn"
      },
      "execution_count": 16,
      "outputs": []
    },
    {
      "cell_type": "code",
      "source": [
        "from transformers import get_linear_schedule_with_warmup\n",
        "epochs = 4\n",
        "total_steps = len(train_dataloader) * epochs\n",
        "scheduler = get_linear_schedule_with_warmup(optimizer, \n",
        "                                            num_warmup_steps = 0,\n",
        "                                            num_training_steps = total_steps)"
      ],
      "metadata": {
        "id": "dReHtRGU8-c5"
      },
      "execution_count": 17,
      "outputs": []
    },
    {
      "cell_type": "code",
      "source": [
        "import random\n",
        "import numpy as np\n",
        "import time\n",
        "seed_val = 777\n",
        "random.seed(seed_val)\n",
        "np.random.seed(seed_val)\n",
        "torch.manual_seed(seed_val)\n",
        "torch.cuda.manual_seed_all(seed_val)\n",
        "training_stats = []\n",
        "total_t0 = time.time()\n",
        "model = BERTSUM()\n",
        "lossF = nn.BCELoss(reduction='none')\n",
        "for epoch_i in range(0, epochs):\n",
        "    print(\"\")\n",
        "    print('======== Epoch {:} / {:} ========'.format(epoch_i + 1, epochs))\n",
        "    print('Training...')\n",
        "    t0 = time.time()\n",
        "    total_train_loss = 0\n",
        "    model.train()\n",
        "    for step, batch in enumerate(train_dataloader):\n",
        "        if step % 40 == 0 and not step == 0:\n",
        "            elapsed = format_time(time.time() - t0)\n",
        "            print('  Batch {:>5,}  of  {:>5,}.    Elapsed: {:}.'.format(step, len(train_dataloader), elapsed))\n",
        "        token = batch[0]\n",
        "        segment = batch[1]\n",
        "        attention = batch[2]\n",
        "        clss = batch[3]\n",
        "        label = batch[4]\n",
        "        model.zero_grad()        \n",
        "        pred, mask_cls = model(word_emb = token, seg_emb = segment, attn_mask = attention, clss = clss)\n",
        "        loss = lossF(pred * mask_cls, label * mask_cls)\n",
        "        total_train_loss += loss.item()\n",
        "        loss.backward()\n",
        "        torch.nn.utils.clip_grad_norm_(model.parameters(), 1.0)\n",
        "        optimizer.step()\n",
        "        scheduler.step()\n",
        "    avg_train_loss = total_train_loss / len(train_dataloader)        \n",
        "    training_time = format_time(time.time() - t0)\n",
        "\n",
        "    print(\"\")\n",
        "    print(\"  Average training loss: {0:.2f}\".format(avg_train_loss))\n",
        "    print(\"  Training epcoh took: {:}\".format(training_time))\n",
        "    print(\"\")\n",
        "    print(\"Running Validation...\")"
      ],
      "metadata": {
        "colab": {
          "base_uri": "https://localhost:8080/"
        },
        "id": "qsLF86EF9mVR",
        "outputId": "b2d7007a-3035-4ec6-c19f-74750a281bf7"
      },
      "execution_count": null,
      "outputs": [
        {
          "output_type": "stream",
          "name": "stderr",
          "text": [
            "Some weights of the model checkpoint at bert-base-uncased were not used when initializing BertModel: ['cls.predictions.transform.LayerNorm.weight', 'cls.seq_relationship.weight', 'cls.predictions.transform.dense.weight', 'cls.seq_relationship.bias', 'cls.predictions.transform.dense.bias', 'cls.predictions.transform.LayerNorm.bias', 'cls.predictions.bias', 'cls.predictions.decoder.weight']\n",
            "- This IS expected if you are initializing BertModel from the checkpoint of a model trained on another task or with another architecture (e.g. initializing a BertForSequenceClassification model from a BertForPreTraining model).\n",
            "- This IS NOT expected if you are initializing BertModel from the checkpoint of a model that you expect to be exactly identical (initializing a BertForSequenceClassification model from a BertForSequenceClassification model).\n"
          ]
        },
        {
          "output_type": "stream",
          "name": "stdout",
          "text": [
            "\n",
            "======== Epoch 1 / 4 ========\n",
            "Training...\n"
          ]
        }
      ]
    },
    {
      "cell_type": "code",
      "source": [],
      "metadata": {
        "id": "7pZuxz6rbkx-"
      },
      "execution_count": null,
      "outputs": []
    }
  ]
}