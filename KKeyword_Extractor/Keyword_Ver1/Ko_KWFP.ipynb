{
  "cells": [
    {
      "cell_type": "markdown",
      "metadata": {
        "id": "view-in-github",
        "colab_type": "text"
      },
      "source": [
        "<a href=\"https://colab.research.google.com/github/PPareun/DeepLearningTextBook/blob/main/KKeyword_Extractor/Keyword_Ver1/Ko_KWFP.ipynb\" target=\"_parent\"><img src=\"https://colab.research.google.com/assets/colab-badge.svg\" alt=\"Open In Colab\"/></a>"
      ]
    },
    {
      "cell_type": "code",
      "execution_count": null,
      "metadata": {
        "colab": {
          "base_uri": "https://localhost:8080/"
        },
        "id": "a-WLY4OfYM6R",
        "outputId": "d7280514-8c5f-4a20-84f4-2a5bd23ee685"
      },
      "outputs": [
        {
          "name": "stdout",
          "output_type": "stream",
          "text": [
            "  Building wheel for kss (setup.py) ... \u001b[?25l\u001b[?25hdone\n",
            "  Created wheel for kss: filename=kss-4.2.0-py3-none-any.whl size=44268 sha256=5ff73c294ef96bb02f68d2b4de2f7542d2a174a0cee5524c3bc668efb2ebfe05\n",
            "  Stored in directory: /root/.cache/pip/wheels/15/3b/c4/462c17d555c6d154f1240433ee3d3fcd4ea58da6ca02f81041\n",
            "  Building wheel for pecab (setup.py) ... \u001b[?25l\u001b[?25hdone\n",
            "  Created wheel for pecab: filename=pecab-1.0.8-py3-none-any.whl size=26646667 sha256=73291313262239012c424401b68e24c9a0840c82a78297b118ed7a194488eef9\n",
            "  Stored in directory: /root/.cache/pip/wheels/a9/98/a3/085a909aa25805f321467a3af3b80d43b6094ed335b4818775\n",
            "Successfully built kss pecab\n",
            "Installing collected packages: emoji, pecab, kss\n",
            "Successfully installed emoji-1.2.0 kss-4.2.0 pecab-1.0.8\n"
          ]
        }
      ],
      "source": [
        "import pandas as pd\n",
        "!pip install kss"
      ]
    },
    {
      "cell_type": "code",
      "execution_count": null,
      "metadata": {
        "id": "e9S0psplkVSG"
      },
      "outputs": [],
      "source": [
        "import kss"
      ]
    },
    {
      "cell_type": "code",
      "execution_count": null,
      "metadata": {
        "colab": {
          "base_uri": "https://localhost:8080/"
        },
        "id": "a6T5jFBRXtiV",
        "outputId": "f8b0c34e-3266-4a45-8f3f-10dec3d44823"
      },
      "outputs": [
        {
          "name": "stdout",
          "output_type": "stream",
          "text": [
            "Mounted at /content/drive\n"
          ]
        }
      ],
      "source": [
        "#크롤링\n",
        "from google.colab import drive\n",
        "drive.mount('/content/drive')"
      ]
    },
    {
      "cell_type": "code",
      "execution_count": null,
      "metadata": {
        "colab": {
          "base_uri": "https://localhost:8080/",
          "height": 775
        },
        "id": "SyWAQWQJX-Ii",
        "outputId": "221a06d2-6393-4535-d2b4-999877c6f2b7"
      },
      "outputs": [
        {
          "name": "stderr",
          "output_type": "stream",
          "text": [
            "/usr/local/lib/python3.8/dist-packages/openpyxl/styles/stylesheet.py:226: UserWarning: Workbook contains no default style, apply openpyxl's default\n",
            "  warn(\"Workbook contains no default style, apply openpyxl's default\")\n"
          ]
        },
        {
          "data": {
            "text/html": [
              "\n",
              "  <div id=\"df-e738d8e3-2757-4aa3-a023-3e94e249587b\">\n",
              "    <div class=\"colab-df-container\">\n",
              "      <div>\n",
              "<style scoped>\n",
              "    .dataframe tbody tr th:only-of-type {\n",
              "        vertical-align: middle;\n",
              "    }\n",
              "\n",
              "    .dataframe tbody tr th {\n",
              "        vertical-align: top;\n",
              "    }\n",
              "\n",
              "    .dataframe thead th {\n",
              "        text-align: right;\n",
              "    }\n",
              "</style>\n",
              "<table border=\"1\" class=\"dataframe\">\n",
              "  <thead>\n",
              "    <tr style=\"text-align: right;\">\n",
              "      <th></th>\n",
              "      <th>뉴스 식별자</th>\n",
              "      <th>일자</th>\n",
              "      <th>언론사</th>\n",
              "      <th>기고자</th>\n",
              "      <th>제목</th>\n",
              "      <th>통합 분류1</th>\n",
              "      <th>통합 분류2</th>\n",
              "      <th>통합 분류3</th>\n",
              "      <th>사건/사고 분류1</th>\n",
              "      <th>사건/사고 분류2</th>\n",
              "      <th>사건/사고 분류3</th>\n",
              "      <th>인물</th>\n",
              "      <th>위치</th>\n",
              "      <th>기관</th>\n",
              "      <th>키워드</th>\n",
              "      <th>특성추출(가중치순 상위 50개)</th>\n",
              "      <th>본문</th>\n",
              "      <th>URL</th>\n",
              "      <th>분석제외 여부</th>\n",
              "    </tr>\n",
              "  </thead>\n",
              "  <tbody>\n",
              "    <tr>\n",
              "      <th>0</th>\n",
              "      <td>2.100501e+06</td>\n",
              "      <td>20221229</td>\n",
              "      <td>파이낸셜뉴스</td>\n",
              "      <td>강재웅 기자 (kjw@fnnews.com)</td>\n",
              "      <td>2022년 가전 키워드는 ‘리스타트(Restart)’</td>\n",
              "      <td>경제&gt;유통</td>\n",
              "      <td>경제&gt;서비스_쇼핑</td>\n",
              "      <td>IT_과학&gt;모바일</td>\n",
              "      <td>NaN</td>\n",
              "      <td>NaN</td>\n",
              "      <td>NaN</td>\n",
              "      <td>NaN</td>\n",
              "      <td>NaN</td>\n",
              "      <td>타이푼,리스타트,전자랜드,신흥</td>\n",
              "      <td>키워드,가전,리스타트,Restart,재개,엔데믹,시대,야외,활동,가전,관심,전자랜드...</td>\n",
              "      <td>판매량,전자랜드,엔데믹,단말기,리스타트,소비자들,태블릿,가전업계,소비자,신흥,액티비티</td>\n",
              "      <td>엔데믹 시대 야외 활동 재개에 관련 가전에 관심 \\n \\n[파이낸셜뉴스] \\n 전자...</td>\n",
              "      <td>http://www.fnnews.com/news/202212290817298695</td>\n",
              "      <td>NaN</td>\n",
              "    </tr>\n",
              "    <tr>\n",
              "      <th>1</th>\n",
              "      <td>2.100501e+06</td>\n",
              "      <td>20221229</td>\n",
              "      <td>파이낸셜뉴스</td>\n",
              "      <td>구자윤 기자 (solidkjy@fnnews.com)</td>\n",
              "      <td>한화테크윈, 스마트파킹 사업 진출.. 전용앱 '모플' 공개</td>\n",
              "      <td>IT_과학&gt;모바일</td>\n",
              "      <td>IT_과학&gt;보안</td>\n",
              "      <td>NaN</td>\n",
              "      <td>사고&gt;교통사고&gt;해상사고</td>\n",
              "      <td>NaN</td>\n",
              "      <td>NaN</td>\n",
              "      <td>NaN</td>\n",
              "      <td>서울,63컨벤션센터,한국</td>\n",
              "      <td>모플,SI,한화테크윈,파트너</td>\n",
              "      <td>한화테크윈,진출,스마트,파킹,사업,전용앱,모플,공개,한화테크윈,63컨벤션,서울,컨벤...</td>\n",
              "      <td>한화테크윈,쇼케이스,파트너사,파킹,서울,경쟁력,주차관제,한국,고객사,63컨벤션,주차...</td>\n",
              "      <td>한화테크윈이 지난 28일 서울 63컨벤션센터에서 '스마트파킹 쇼케이스'를 열고 전용...</td>\n",
              "      <td>http://www.fnnews.com/news/202212290853301570</td>\n",
              "      <td>NaN</td>\n",
              "    </tr>\n",
              "    <tr>\n",
              "      <th>2</th>\n",
              "      <td>2.100501e+06</td>\n",
              "      <td>20221229</td>\n",
              "      <td>파이낸셜뉴스</td>\n",
              "      <td>박문수 기자 (mj@fnnews.com)</td>\n",
              "      <td>신라면세점, 국토부 '스마트 물류센터' 인증</td>\n",
              "      <td>경제&gt;산업_기업</td>\n",
              "      <td>IT_과학&gt;모바일</td>\n",
              "      <td>IT_과학&gt;보안</td>\n",
              "      <td>NaN</td>\n",
              "      <td>NaN</td>\n",
              "      <td>NaN</td>\n",
              "      <td>NaN</td>\n",
              "      <td>인도,인천국제공항</td>\n",
              "      <td>신라면세점,ISO,국토부,국토교통부,SCM</td>\n",
              "      <td>신라면세점,물류센터,국토부,스마트,물류,센터,인증,자동,설비,높여,업무,생산,신라면...</td>\n",
              "      <td>신라면세점,물류센터,완충재,인도장,혼잡도,인천국제공항,사용량,제2통합,팀장,양진우,...</td>\n",
              "      <td>자동화 설비로 업무 생산성 높여 \\n \\n \\n 신라면세점이 국토교통부가 주관하는 ...</td>\n",
              "      <td>http://www.fnnews.com/news/202212281756255742</td>\n",
              "      <td>NaN</td>\n",
              "    </tr>\n",
              "    <tr>\n",
              "      <th>3</th>\n",
              "      <td>2.100501e+06</td>\n",
              "      <td>20221229</td>\n",
              "      <td>파이낸셜뉴스</td>\n",
              "      <td>김경아 기자 (kakim@fnnews.com)</td>\n",
              "      <td>쿵월드, 블록체인 기반 NTF 관련 콘텐츠의 IP추적 등 위변조 특허 등록</td>\n",
              "      <td>IT_과학&gt;콘텐츠</td>\n",
              "      <td>IT_과학&gt;모바일</td>\n",
              "      <td>IT_과학&gt;보안</td>\n",
              "      <td>NaN</td>\n",
              "      <td>NaN</td>\n",
              "      <td>NaN</td>\n",
              "      <td>NaN</td>\n",
              "      <td>NaN</td>\n",
              "      <td>KOONG,쿵월드</td>\n",
              "      <td>쿵월드,블록체,NTF,콘텐츠,NTF,IP추적,등록,위변조,특허,불법,다운로드,탑재,...</td>\n",
              "      <td>블록체,저작권,소유권,ip,쿵월드,가능토큰,사용자,koong,nft,무방비,활성화,...</td>\n",
              "      <td>불법 다운로드 등 금지 기능 탑재 \\n \\n \\n \\n \\n \\n[파이낸셜뉴스] 글...</td>\n",
              "      <td>http://www.fnnews.com/news/202212281512591521</td>\n",
              "      <td>NaN</td>\n",
              "    </tr>\n",
              "    <tr>\n",
              "      <th>4</th>\n",
              "      <td>2.100501e+06</td>\n",
              "      <td>20221229</td>\n",
              "      <td>파이낸셜뉴스</td>\n",
              "      <td>최두선 기자 (dschoi@fnnews.com)</td>\n",
              "      <td>네오리진, ‘루나(LUNA)’ IP 활용 모바일게임 중국 판호 추진</td>\n",
              "      <td>IT_과학&gt;콘텐츠</td>\n",
              "      <td>IT_과학&gt;모바일</td>\n",
              "      <td>NaN</td>\n",
              "      <td>NaN</td>\n",
              "      <td>NaN</td>\n",
              "      <td>NaN</td>\n",
              "      <td>NaN</td>\n",
              "      <td>원천,중국,태국,대만,상해,한국</td>\n",
              "      <td>LUNA</td>\n",
              "      <td>네오리진,루나,LUNA,IP,활용,모바일,게임,중국,판호,추진,네오리진,루나,LUN...</td>\n",
              "      <td>중국,ip,태국,루나온라인,네오리진,mmorpg,루나,1위,코스튬,론칭,상반기,트루...</td>\n",
              "      <td>[파이낸셜뉴스] 네오리진이 ‘루나(LUNA)’ 지식재산권(IP)을 활용한 방치형 R...</td>\n",
              "      <td>http://www.fnnews.com/news/202212281430114103</td>\n",
              "      <td>NaN</td>\n",
              "    </tr>\n",
              "  </tbody>\n",
              "</table>\n",
              "</div>\n",
              "      <button class=\"colab-df-convert\" onclick=\"convertToInteractive('df-e738d8e3-2757-4aa3-a023-3e94e249587b')\"\n",
              "              title=\"Convert this dataframe to an interactive table.\"\n",
              "              style=\"display:none;\">\n",
              "        \n",
              "  <svg xmlns=\"http://www.w3.org/2000/svg\" height=\"24px\"viewBox=\"0 0 24 24\"\n",
              "       width=\"24px\">\n",
              "    <path d=\"M0 0h24v24H0V0z\" fill=\"none\"/>\n",
              "    <path d=\"M18.56 5.44l.94 2.06.94-2.06 2.06-.94-2.06-.94-.94-2.06-.94 2.06-2.06.94zm-11 1L8.5 8.5l.94-2.06 2.06-.94-2.06-.94L8.5 2.5l-.94 2.06-2.06.94zm10 10l.94 2.06.94-2.06 2.06-.94-2.06-.94-.94-2.06-.94 2.06-2.06.94z\"/><path d=\"M17.41 7.96l-1.37-1.37c-.4-.4-.92-.59-1.43-.59-.52 0-1.04.2-1.43.59L10.3 9.45l-7.72 7.72c-.78.78-.78 2.05 0 2.83L4 21.41c.39.39.9.59 1.41.59.51 0 1.02-.2 1.41-.59l7.78-7.78 2.81-2.81c.8-.78.8-2.07 0-2.86zM5.41 20L4 18.59l7.72-7.72 1.47 1.35L5.41 20z\"/>\n",
              "  </svg>\n",
              "      </button>\n",
              "      \n",
              "  <style>\n",
              "    .colab-df-container {\n",
              "      display:flex;\n",
              "      flex-wrap:wrap;\n",
              "      gap: 12px;\n",
              "    }\n",
              "\n",
              "    .colab-df-convert {\n",
              "      background-color: #E8F0FE;\n",
              "      border: none;\n",
              "      border-radius: 50%;\n",
              "      cursor: pointer;\n",
              "      display: none;\n",
              "      fill: #1967D2;\n",
              "      height: 32px;\n",
              "      padding: 0 0 0 0;\n",
              "      width: 32px;\n",
              "    }\n",
              "\n",
              "    .colab-df-convert:hover {\n",
              "      background-color: #E2EBFA;\n",
              "      box-shadow: 0px 1px 2px rgba(60, 64, 67, 0.3), 0px 1px 3px 1px rgba(60, 64, 67, 0.15);\n",
              "      fill: #174EA6;\n",
              "    }\n",
              "\n",
              "    [theme=dark] .colab-df-convert {\n",
              "      background-color: #3B4455;\n",
              "      fill: #D2E3FC;\n",
              "    }\n",
              "\n",
              "    [theme=dark] .colab-df-convert:hover {\n",
              "      background-color: #434B5C;\n",
              "      box-shadow: 0px 1px 3px 1px rgba(0, 0, 0, 0.15);\n",
              "      filter: drop-shadow(0px 1px 2px rgba(0, 0, 0, 0.3));\n",
              "      fill: #FFFFFF;\n",
              "    }\n",
              "  </style>\n",
              "\n",
              "      <script>\n",
              "        const buttonEl =\n",
              "          document.querySelector('#df-e738d8e3-2757-4aa3-a023-3e94e249587b button.colab-df-convert');\n",
              "        buttonEl.style.display =\n",
              "          google.colab.kernel.accessAllowed ? 'block' : 'none';\n",
              "\n",
              "        async function convertToInteractive(key) {\n",
              "          const element = document.querySelector('#df-e738d8e3-2757-4aa3-a023-3e94e249587b');\n",
              "          const dataTable =\n",
              "            await google.colab.kernel.invokeFunction('convertToInteractive',\n",
              "                                                     [key], {});\n",
              "          if (!dataTable) return;\n",
              "\n",
              "          const docLinkHtml = 'Like what you see? Visit the ' +\n",
              "            '<a target=\"_blank\" href=https://colab.research.google.com/notebooks/data_table.ipynb>data table notebook</a>'\n",
              "            + ' to learn more about interactive tables.';\n",
              "          element.innerHTML = '';\n",
              "          dataTable['output_type'] = 'display_data';\n",
              "          await google.colab.output.renderOutput(dataTable, element);\n",
              "          const docLink = document.createElement('div');\n",
              "          docLink.innerHTML = docLinkHtml;\n",
              "          element.appendChild(docLink);\n",
              "        }\n",
              "      </script>\n",
              "    </div>\n",
              "  </div>\n",
              "  "
            ],
            "text/plain": [
              "         뉴스 식별자        일자     언론사                           기고자  \\\n",
              "0  2.100501e+06  20221229  파이낸셜뉴스       강재웅 기자 (kjw@fnnews.com)   \n",
              "1  2.100501e+06  20221229  파이낸셜뉴스  구자윤 기자 (solidkjy@fnnews.com)   \n",
              "2  2.100501e+06  20221229  파이낸셜뉴스        박문수 기자 (mj@fnnews.com)   \n",
              "3  2.100501e+06  20221229  파이낸셜뉴스     김경아 기자 (kakim@fnnews.com)   \n",
              "4  2.100501e+06  20221229  파이낸셜뉴스    최두선 기자 (dschoi@fnnews.com)   \n",
              "\n",
              "                                          제목     통합 분류1      통합 분류2  \\\n",
              "0              2022년 가전 키워드는 ‘리스타트(Restart)’      경제>유통   경제>서비스_쇼핑   \n",
              "1           한화테크윈, 스마트파킹 사업 진출.. 전용앱 '모플' 공개  IT_과학>모바일    IT_과학>보안   \n",
              "2                   신라면세점, 국토부 '스마트 물류센터' 인증   경제>산업_기업   IT_과학>모바일   \n",
              "3  쿵월드, 블록체인 기반 NTF 관련 콘텐츠의 IP추적 등 위변조 특허 등록  IT_과학>콘텐츠   IT_과학>모바일   \n",
              "4      네오리진, ‘루나(LUNA)’ IP 활용 모바일게임 중국 판호 추진  IT_과학>콘텐츠   IT_과학>모바일   \n",
              "\n",
              "       통합 분류3     사건/사고 분류1 사건/사고 분류2 사건/사고 분류3   인물                 위치  \\\n",
              "0   IT_과학>모바일           NaN       NaN       NaN  NaN                NaN   \n",
              "1         NaN  사고>교통사고>해상사고       NaN       NaN  NaN      서울,63컨벤션센터,한국   \n",
              "2    IT_과학>보안           NaN       NaN       NaN  NaN          인도,인천국제공항   \n",
              "3    IT_과학>보안           NaN       NaN       NaN  NaN                NaN   \n",
              "4         NaN           NaN       NaN       NaN  NaN  원천,중국,태국,대만,상해,한국   \n",
              "\n",
              "                        기관                                                키워드  \\\n",
              "0         타이푼,리스타트,전자랜드,신흥  키워드,가전,리스타트,Restart,재개,엔데믹,시대,야외,활동,가전,관심,전자랜드...   \n",
              "1          모플,SI,한화테크윈,파트너  한화테크윈,진출,스마트,파킹,사업,전용앱,모플,공개,한화테크윈,63컨벤션,서울,컨벤...   \n",
              "2  신라면세점,ISO,국토부,국토교통부,SCM  신라면세점,물류센터,국토부,스마트,물류,센터,인증,자동,설비,높여,업무,생산,신라면...   \n",
              "3                KOONG,쿵월드  쿵월드,블록체,NTF,콘텐츠,NTF,IP추적,등록,위변조,특허,불법,다운로드,탑재,...   \n",
              "4                     LUNA  네오리진,루나,LUNA,IP,활용,모바일,게임,중국,판호,추진,네오리진,루나,LUN...   \n",
              "\n",
              "                                   특성추출(가중치순 상위 50개)  \\\n",
              "0    판매량,전자랜드,엔데믹,단말기,리스타트,소비자들,태블릿,가전업계,소비자,신흥,액티비티   \n",
              "1  한화테크윈,쇼케이스,파트너사,파킹,서울,경쟁력,주차관제,한국,고객사,63컨벤션,주차...   \n",
              "2  신라면세점,물류센터,완충재,인도장,혼잡도,인천국제공항,사용량,제2통합,팀장,양진우,...   \n",
              "3  블록체,저작권,소유권,ip,쿵월드,가능토큰,사용자,koong,nft,무방비,활성화,...   \n",
              "4  중국,ip,태국,루나온라인,네오리진,mmorpg,루나,1위,코스튬,론칭,상반기,트루...   \n",
              "\n",
              "                                                  본문  \\\n",
              "0  엔데믹 시대 야외 활동 재개에 관련 가전에 관심 \\n \\n[파이낸셜뉴스] \\n 전자...   \n",
              "1  한화테크윈이 지난 28일 서울 63컨벤션센터에서 '스마트파킹 쇼케이스'를 열고 전용...   \n",
              "2  자동화 설비로 업무 생산성 높여 \\n \\n \\n 신라면세점이 국토교통부가 주관하는 ...   \n",
              "3  불법 다운로드 등 금지 기능 탑재 \\n \\n \\n \\n \\n \\n[파이낸셜뉴스] 글...   \n",
              "4  [파이낸셜뉴스] 네오리진이 ‘루나(LUNA)’ 지식재산권(IP)을 활용한 방치형 R...   \n",
              "\n",
              "                                             URL 분석제외 여부  \n",
              "0  http://www.fnnews.com/news/202212290817298695     NaN  \n",
              "1  http://www.fnnews.com/news/202212290853301570     NaN  \n",
              "2  http://www.fnnews.com/news/202212281756255742     NaN  \n",
              "3  http://www.fnnews.com/news/202212281512591521     NaN  \n",
              "4  http://www.fnnews.com/news/202212281430114103     NaN  "
            ]
          },
          "execution_count": 5,
          "metadata": {},
          "output_type": "execute_result"
        }
      ],
      "source": [
        "df = pd.read_excel('/content/drive/MyDrive/NewsResult_20200929-20221229.xlsx')\n",
        "df.head()"
      ]
    },
    {
      "cell_type": "code",
      "execution_count": null,
      "metadata": {
        "id": "ToyLCcvVY0NH"
      },
      "outputs": [],
      "source": [
        "keywords, urls = df['특성추출(가중치순 상위 50개)'], df['URL']"
      ]
    },
    {
      "cell_type": "code",
      "execution_count": null,
      "metadata": {
        "colab": {
          "base_uri": "https://localhost:8080/"
        },
        "id": "aAtvuRy_aQDk",
        "outputId": "1a6949eb-cb1e-4ddc-a9cf-c6862c18e7c1"
      },
      "outputs": [
        {
          "name": "stderr",
          "output_type": "stream",
          "text": [
            "<ipython-input-7-c8d49bc89359>:2: SettingWithCopyWarning: \n",
            "A value is trying to be set on a copy of a slice from a DataFrame\n",
            "\n",
            "See the caveats in the documentation: https://pandas.pydata.org/pandas-docs/stable/user_guide/indexing.html#returning-a-view-versus-a-copy\n",
            "  keywords[i] = keywords[i].split(',')\n"
          ]
        }
      ],
      "source": [
        "for i in range(len(keywords)):\n",
        "  keywords[i] = keywords[i].split(',') "
      ]
    },
    {
      "cell_type": "code",
      "execution_count": null,
      "metadata": {
        "colab": {
          "base_uri": "https://localhost:8080/"
        },
        "id": "HPL8oHl6aw6H",
        "outputId": "230dfa9b-4c2a-4aa9-d4da-2e992f53e908"
      },
      "outputs": [
        {
          "name": "stdout",
          "output_type": "stream",
          "text": [
            "Looking in indexes: https://pypi.org/simple, https://us-python.pkg.dev/colab-wheels/public/simple/\n",
            "Requirement already satisfied: bs4 in /usr/local/lib/python3.8/dist-packages (0.0.1)\n",
            "Requirement already satisfied: beautifulsoup4 in /usr/local/lib/python3.8/dist-packages (from bs4) (4.6.3)\n"
          ]
        }
      ],
      "source": [
        "!pip install bs4"
      ]
    },
    {
      "cell_type": "code",
      "execution_count": null,
      "metadata": {
        "colab": {
          "base_uri": "https://localhost:8080/"
        },
        "id": "MeKb-rLXrTj0",
        "outputId": "07fc117a-5047-4b8d-acd4-b726bf4eb1cc"
      },
      "outputs": [
        {
          "output_type": "stream",
          "name": "stdout",
          "text": [
            "Selecting previously unselected package fonts-nanum.\n",
            "(Reading database ... 124016 files and directories currently installed.)\n",
            "Preparing to unpack .../fonts-nanum_20170925-1_all.deb ...\n",
            "Unpacking fonts-nanum (20170925-1) ...\n",
            "Selecting previously unselected package fonts-nanum-eco.\n",
            "Preparing to unpack .../fonts-nanum-eco_1.000-6_all.deb ...\n",
            "Unpacking fonts-nanum-eco (1.000-6) ...\n",
            "Selecting previously unselected package fonts-nanum-extra.\n",
            "Preparing to unpack .../fonts-nanum-extra_20170925-1_all.deb ...\n",
            "Unpacking fonts-nanum-extra (20170925-1) ...\n",
            "Selecting previously unselected package fonts-nanum-coding.\n",
            "Preparing to unpack .../fonts-nanum-coding_2.5-1_all.deb ...\n",
            "Unpacking fonts-nanum-coding (2.5-1) ...\n",
            "Setting up fonts-nanum-extra (20170925-1) ...\n",
            "Setting up fonts-nanum (20170925-1) ...\n",
            "Setting up fonts-nanum-coding (2.5-1) ...\n",
            "Setting up fonts-nanum-eco (1.000-6) ...\n",
            "Processing triggers for fontconfig (2.12.6-0ubuntu2) ...\n"
          ]
        }
      ],
      "source": [
        "#폰트 설치\n",
        "!apt-get install fonts-nanum* -qq\n",
        "path = '/usr/share/fonts/truetype/nanum/NanumBarunGothic.ttf'"
      ]
    },
    {
      "cell_type": "code",
      "execution_count": null,
      "metadata": {
        "id": "-NxgiGq4eNQt"
      },
      "outputs": [],
      "source": [
        "import requests\n",
        "from bs4 import BeautifulSoup\n",
        "import re\n",
        "import pickle"
      ]
    },
    {
      "cell_type": "code",
      "execution_count": null,
      "metadata": {
        "colab": {
          "base_uri": "https://localhost:8080/",
          "height": 147
        },
        "id": "T3xLscUXLTgq",
        "outputId": "c370d961-6973-425e-93c9-003829bb9bea"
      },
      "outputs": [
        {
          "ename": "SyntaxError",
          "evalue": "ignored",
          "output_type": "error",
          "traceback": [
            "\u001b[0;36m  File \u001b[0;32m\"<ipython-input-10-367315ed9084>\"\u001b[0;36m, line \u001b[0;32m17\u001b[0m\n\u001b[0;31m    pickle.dump(key,f)\u001b[0m\n\u001b[0m                      \n^\u001b[0m\n\u001b[0;31mSyntaxError\u001b[0m\u001b[0;31m:\u001b[0m EOF while scanning triple-quoted string literal\n"
          ]
        }
      ],
      "source": [
        "\"\"\"key,content = [],[]\n",
        "for index, url in enumerate(urls[:5000]):\n",
        "  print(index)\n",
        "  res = requests.get(urls[index])\n",
        "  soup = BeautifulSoup(res.content, 'html.parser')\n",
        "  text_data = soup.find(id='article_content')\n",
        "  if text_data != None:\n",
        "    text = kss.split_sentences(text_data.get_text(separator=\" \"))\n",
        "    text = [re.sub('[\\n|\\r|\\t]', '', text[i]) for i in range(len(text)-1)]\n",
        "    content.append(text)\n",
        "    key.append(keywords[index])\n",
        "  if index%100 == 0:\n",
        "    print('save')\n",
        "    with open('/content/drive/MyDrive/craw_content.pkl', 'wb') as f:\n",
        "      pickle.dump(content,f)\n",
        "    with open('/content/drive/MyDrive/craw_key.pkl', 'wb') as f:\n",
        "      pickle.dump(key,f)"
      ]
    },
    {
      "cell_type": "code",
      "execution_count": null,
      "metadata": {
        "colab": {
          "base_uri": "https://localhost:8080/"
        },
        "id": "PSsf_zLIJfms",
        "outputId": "4269c1b1-7328-4022-bd24-4d7c39ad292a"
      },
      "outputs": [
        {
          "name": "stdout",
          "output_type": "stream",
          "text": [
            "4629\n"
          ]
        }
      ],
      "source": [
        "with open('/content/drive/MyDrive/craw_content.pkl', 'rb') as f:\n",
        "    content = pickle.load(f)\n",
        "with open('/content/drive/MyDrive/craw_key.pkl', 'rb') as f:\n",
        "    key = pickle.load(f)\n",
        "print(len(key))"
      ]
    },
    {
      "cell_type": "code",
      "execution_count": null,
      "metadata": {
        "colab": {
          "base_uri": "https://localhost:8080/"
        },
        "id": "gx18nQ107oRg",
        "outputId": "261fe2d1-af0e-4e31-aa43-ee597ad022df"
      },
      "outputs": [
        {
          "output_type": "stream",
          "name": "stdout",
          "text": [
            "Looking in indexes: https://pypi.org/simple, https://us-python.pkg.dev/colab-wheels/public/simple/\n",
            "Collecting konlpy\n",
            "  Downloading konlpy-0.6.0-py2.py3-none-any.whl (19.4 MB)\n",
            "\u001b[2K     \u001b[90m━━━━━━━━━━━━━━━━━━━━━━━━━━━━━━━━━━━━━━━━\u001b[0m \u001b[32m19.4/19.4 MB\u001b[0m \u001b[31m58.0 MB/s\u001b[0m eta \u001b[36m0:00:00\u001b[0m\n",
            "\u001b[?25hRequirement already satisfied: numpy>=1.6 in /usr/local/lib/python3.8/dist-packages (from konlpy) (1.21.6)\n",
            "Requirement already satisfied: lxml>=4.1.0 in /usr/local/lib/python3.8/dist-packages (from konlpy) (4.9.2)\n",
            "Collecting JPype1>=0.7.0\n",
            "  Downloading JPype1-1.4.1-cp38-cp38-manylinux_2_12_x86_64.manylinux2010_x86_64.whl (465 kB)\n",
            "\u001b[2K     \u001b[90m━━━━━━━━━━━━━━━━━━━━━━━━━━━━━━━━━━━━━━\u001b[0m \u001b[32m465.6/465.6 KB\u001b[0m \u001b[31m38.6 MB/s\u001b[0m eta \u001b[36m0:00:00\u001b[0m\n",
            "\u001b[?25hRequirement already satisfied: packaging in /usr/local/lib/python3.8/dist-packages (from JPype1>=0.7.0->konlpy) (21.3)\n",
            "Requirement already satisfied: pyparsing!=3.0.5,>=2.0.2 in /usr/local/lib/python3.8/dist-packages (from packaging->JPype1>=0.7.0->konlpy) (3.0.9)\n",
            "Installing collected packages: JPype1, konlpy\n",
            "Successfully installed JPype1-1.4.1 konlpy-0.6.0\n",
            "Looking in indexes: https://pypi.org/simple, https://us-python.pkg.dev/colab-wheels/public/simple/\n",
            "Collecting mecab\n",
            "  Downloading mecab-0.996.3.tar.gz (62 kB)\n",
            "\u001b[2K     \u001b[90m━━━━━━━━━━━━━━━━━━━━━━━━━━━━━━━━━━━━━━━━\u001b[0m \u001b[32m62.6/62.6 KB\u001b[0m \u001b[31m2.8 MB/s\u001b[0m eta \u001b[36m0:00:00\u001b[0m\n",
            "\u001b[?25h  \u001b[1;31merror\u001b[0m: \u001b[1msubprocess-exited-with-error\u001b[0m\n",
            "  \n",
            "  \u001b[31m×\u001b[0m \u001b[32mpython setup.py egg_info\u001b[0m did not run successfully.\n",
            "  \u001b[31m│\u001b[0m exit code: \u001b[1;36m1\u001b[0m\n",
            "  \u001b[31m╰─>\u001b[0m See above for output.\n",
            "  \n",
            "  \u001b[1;35mnote\u001b[0m: This error originates from a subprocess, and is likely not a problem with pip.\n",
            "  Preparing metadata (setup.py) ... \u001b[?25l\u001b[?25herror\n",
            "\u001b[1;31merror\u001b[0m: \u001b[1mmetadata-generation-failed\u001b[0m\n",
            "\n",
            "\u001b[31m×\u001b[0m Encountered error while generating package metadata.\n",
            "\u001b[31m╰─>\u001b[0m See above for output.\n",
            "\n",
            "\u001b[1;35mnote\u001b[0m: This is an issue with the package mentioned above, not pip.\n",
            "\u001b[1;36mhint\u001b[0m: See above for details.\n"
          ]
        }
      ],
      "source": [
        "!pip install konlpy\n",
        "!pip install mecab\n",
        "import pandas as pd\n",
        "import numpy as np\n",
        "import matplotlib.pyplot as plt\n",
        "import urllib.request\n",
        "import tensorflow as tf\n",
        "from collections import Counter\n",
        "from konlpy.tag import Hannanum\n",
        "from sklearn.model_selection import train_test_split\n",
        "from tensorflow.keras.preprocessing.text import Tokenizer\n",
        "from tensorflow.keras.preprocessing.sequence import pad_sequences\n",
        "import re\n",
        "han = Hannanum()"
      ]
    },
    {
      "cell_type": "code",
      "execution_count": null,
      "metadata": {
        "id": "bGAWwr0lsZtp"
      },
      "outputs": [],
      "source": [
        "def preprocess(text : str):\n",
        "  text = re.sub(r'\\([^)]*\\)' , \"\", text)\n",
        "  text = re.sub(r'\\[[^)]*\\]' , \"\", text)\n",
        "  text = re.sub(r\"[^\\uAC00-\\uD7A30-9a-zA-Z\\s-]\", \"\", text)\n",
        "  tokens = list(han.pos(text))\n",
        "  relist = []\n",
        "  N = len(tokens)\n",
        "  index = 0\n",
        "  while(index<N):\n",
        "    word = tokens[index]\n",
        "    if word[1][0] == 'F' or word[1][0] == 'S':\n",
        "      concated_word = \"\"\n",
        "      while(index < N):\n",
        "        if(tokens[index][1][0] == 'N' or tokens[index][1][0] == 'F' or tokens[index][1][0] == 'S'):\n",
        "          concated_word += tokens[index][0] +\" \"\n",
        "          index+=1\n",
        "        else:\n",
        "          break\n",
        "      relist.append(concated_word.strip())\n",
        "    else:\n",
        "      relist.append(word[0].strip())\n",
        "      index+=1\n",
        "  return relist"
      ]
    },
    {
      "cell_type": "code",
      "execution_count": null,
      "metadata": {
        "colab": {
          "background_save": true
        },
        "id": "Q4z0lcO87f7S"
      },
      "outputs": [],
      "source": [
        "tokenizer = Tokenizer(num_words = 150, oov_token='<UNK>')\n",
        "pos_of_key = []\n",
        "imp_sent_list = []\n",
        "sent_list = []\n",
        "for index, texts in enumerate(content):\n",
        "  key_dict = {}\n",
        "  for word in key[index]:\n",
        "    key_dict[word] = 1\n",
        "  for text in texts:\n",
        "    text = re.sub(r'\\([^)]*\\)' , \"\", text)\n",
        "    text = re.sub(r'\\[[^)]*\\]' , \"\", text)\n",
        "    text = re.sub(r\"[^\\uAC00-\\uD7A30-9a-zA-Z\\s-]\", \"\", text)\n",
        "    if(text.replace(\" \", '') != \"\"):\n",
        "      tokens = list(han.pos(text))\n",
        "    flag = 0\n",
        "    kwds = []\n",
        "    count = 0\n",
        "    for i,token in enumerate(tokens):\n",
        "      kwd = [0 for _ in range(len(tokens))]\n",
        "      if token[1] == 'N':\n",
        "        count += 1\n",
        "        if token[0] in key_dict:\n",
        "          kwd[i] = 1\n",
        "          flag = 1\n",
        "        kwds.append(kwd)\n",
        "    if flag:\n",
        "      wrds = []\n",
        "      pos_of_key.extend(kwds)\n",
        "      for wrd,pos in tokens: \n",
        "        wrds.append(wrd)\n",
        "      for _ in range(count):\n",
        "        imp_sent_list.append(wrds)\n",
        "        sent_list.append(text)\n",
        "tokenizer.fit_on_texts(imp_sent_list)"
      ]
    },
    {
      "cell_type": "code",
      "execution_count": null,
      "metadata": {
        "colab": {
          "background_save": true
        },
        "id": "xj3Tk9_CMnUW",
        "outputId": "6a02412b-398c-48b8-f79b-ed8e7ff0ae8b"
      },
      "outputs": [
        {
          "name": "stdout",
          "output_type": "stream",
          "text": [
            "666406\n",
            "['엔데믹 시대 야외 활동 재개에 관련 가전에 관심        전자랜드 타이푼에서 고객들이 뷰티 케어 기기를 체험하고 있다', '엔데믹 시대 야외 활동 재개에 관련 가전에 관심        전자랜드 타이푼에서 고객들이 뷰티 케어 기기를 체험하고 있다', '엔데믹 시대 야외 활동 재개에 관련 가전에 관심        전자랜드 타이푼에서 고객들이 뷰티 케어 기기를 체험하고 있다', '엔데믹 시대 야외 활동 재개에 관련 가전에 관심        전자랜드 타이푼에서 고객들이 뷰티 케어 기기를 체험하고 있다', '엔데믹 시대 야외 활동 재개에 관련 가전에 관심        전자랜드 타이푼에서 고객들이 뷰티 케어 기기를 체험하고 있다', '엔데믹 시대 야외 활동 재개에 관련 가전에 관심        전자랜드 타이푼에서 고객들이 뷰티 케어 기기를 체험하고 있다']\n",
            "[[1, 0, 0, 0, 0, 0, 0, 0, 0, 0, 0, 0, 0, 0, 0, 0, 0, 0, 0, 0, 0, 0, 0, 0, 0], [0, 0, 0, 0, 0, 0, 0, 0, 0, 0, 0, 0, 0, 0, 0, 0, 0, 0, 0, 0, 0, 0, 0, 0, 0], [0, 0, 0, 0, 0, 0, 0, 0, 0, 0, 0, 0, 0, 0, 0, 0, 0, 0, 0, 0, 0, 0, 0, 0, 0], [0, 0, 0, 0, 0, 0, 0, 0, 0, 0, 0, 0, 0, 0, 0, 0, 0, 0, 0, 0, 0, 0, 0, 0, 0], [0, 0, 0, 0, 0, 0, 0, 0, 0, 0, 0, 0, 0, 0, 0, 0, 0, 0, 0, 0, 0, 0, 0, 0, 0], [0, 0, 0, 0, 0, 0, 0, 0, 0, 0, 0, 0, 0, 0, 0, 0, 0, 0, 0, 0, 0, 0, 0, 0, 0]]\n"
          ]
        }
      ],
      "source": [
        "print(len(imp_sent_list))\n",
        "print(sent_list[:6])\n",
        "print(pos_of_key[:6])"
      ]
    },
    {
      "cell_type": "code",
      "execution_count": null,
      "metadata": {
        "id": "eUw547BJ32pV"
      },
      "outputs": [],
      "source": [
        "oov = [w for w,c in tokenizer.word_counts.items() if c<10]\n",
        "for word in oov:\n",
        "  if word in tokenizer.word_index:\n",
        "    del tokenizer.word_index[word]"
      ]
    },
    {
      "cell_type": "code",
      "execution_count": null,
      "metadata": {
        "id": "PHn8IQz4pilq"
      },
      "outputs": [],
      "source": [
        "max_len = 70\n",
        "vocab_size = len(tokenizer.word_index)+1\n",
        "embedding_dim = 128\n",
        "hidden_units = 256"
      ]
    },
    {
      "cell_type": "code",
      "execution_count": null,
      "metadata": {
        "colab": {
          "base_uri": "https://localhost:8080/"
        },
        "id": "gBLSLdvTChpU",
        "outputId": "17b3d1ec-625b-47bd-f302-24153a02b32a"
      },
      "outputs": [
        {
          "output_type": "stream",
          "name": "stdout",
          "text": [
            "66054\n"
          ]
        }
      ],
      "source": [
        "print(vocab_size)"
      ]
    },
    {
      "cell_type": "code",
      "execution_count": null,
      "metadata": {
        "id": "vkBvf-Q6OlYu"
      },
      "outputs": [],
      "source": [
        "X_data = []\n",
        "start = 0\n",
        "while(start<len(imp_sent_list)):\n",
        "  print(start)\n",
        "  if sent_list[start].replace(\" \", \"\") != \"\":\n",
        "    tokens = han.pos(sent_list[start])\n",
        "  count = 0\n",
        "  for word, pos in tokens:\n",
        "    if pos == 'N':\n",
        "      count += 1\n",
        "  start += count\n",
        "  now = -1\n",
        "  while(count>0):\n",
        "    x = []\n",
        "    flag = 0\n",
        "    for index, (word, pos) in enumerate(tokens):\n",
        "      if pos == 'N' and now < index and flag == 0:\n",
        "        flag = 1\n",
        "        now = index\n",
        "        x.append(1)\n",
        "      elif word in tokenizer.word_index:\n",
        "        x.append(tokenizer.word_index[word])\n",
        "      else:\n",
        "        x.append(1)\n",
        "    X_data.append(x)\n",
        "    count -= 1"
      ]
    },
    {
      "cell_type": "code",
      "execution_count": null,
      "metadata": {
        "id": "hQdzReQAKoFa"
      },
      "outputs": [],
      "source": [
        "X_data = pad_sequences(X_data, padding='post', maxlen=max_len)\n",
        "y_data = [0 for _ in range(len(pos_of_key))]\n",
        "for i in range(len(pos_of_key)):\n",
        "  y_data[i] = sum(pos_of_key[i])"
      ]
    },
    {
      "cell_type": "code",
      "execution_count": null,
      "metadata": {
        "colab": {
          "base_uri": "https://localhost:8080/"
        },
        "id": "tpA1nG1UCGbN",
        "outputId": "f81db1e1-0324-4ae2-8f69-7317951a4e4d"
      },
      "outputs": [
        {
          "name": "stdout",
          "output_type": "stream",
          "text": [
            "69613\n"
          ]
        }
      ],
      "source": [
        "print(len(tokenizer.word_index))"
      ]
    },
    {
      "cell_type": "code",
      "execution_count": null,
      "metadata": {
        "id": "VZjaHbPHotmC"
      },
      "outputs": [],
      "source": [
        "from tensorflow.keras import models\n",
        "from tensorflow.keras.models import Sequential\n",
        "from tensorflow.keras.layers import Dense, LSTM, InputLayer, Bidirectional, TimeDistributed, Embedding, Dropout\n",
        "from tensorflow.keras.optimizers import Adam\n",
        "from tensorflow.keras.utils import to_categorical"
      ]
    },
    {
      "cell_type": "code",
      "execution_count": null,
      "metadata": {
        "id": "uxYB1Cgeq6_D"
      },
      "outputs": [],
      "source": [
        "ones = []\n",
        "zeros = []\n",
        "for i in range(len(y_data)):\n",
        "  if y_data[i] == 1:\n",
        "    ones.append(i)\n",
        "  else:\n",
        "    zeros.append(i)"
      ]
    },
    {
      "cell_type": "code",
      "execution_count": null,
      "metadata": {
        "id": "M23v0N_6rRr4"
      },
      "outputs": [],
      "source": [
        "data_it = ones\n",
        "data_it.extend(zeros[:len(ones)])"
      ]
    },
    {
      "cell_type": "code",
      "execution_count": null,
      "metadata": {
        "id": "acLw5YRssZD7"
      },
      "outputs": [],
      "source": [
        "data_it = np.array(data_it)"
      ]
    },
    {
      "cell_type": "code",
      "execution_count": null,
      "metadata": {
        "id": "fU3mM94-akcq"
      },
      "outputs": [],
      "source": [
        "np.random.shuffle(data_it)"
      ]
    },
    {
      "cell_type": "code",
      "execution_count": null,
      "metadata": {
        "id": "QZ9Kh0fOtcyJ"
      },
      "outputs": [],
      "source": [
        "X = []\n",
        "y = []\n",
        "for index in data_it:\n",
        "  X.append(X_data[index])\n",
        "  y.append(y_data[index])\n",
        "X = np.array(X)\n",
        "y = np.array(y)"
      ]
    },
    {
      "cell_type": "code",
      "execution_count": null,
      "metadata": {
        "id": "SLzRFnX8oSdI"
      },
      "outputs": [],
      "source": [
        "model = models.load_model('/content/drive/MyDrive/Ko-KWFPUNK.h5')"
      ]
    },
    {
      "cell_type": "code",
      "execution_count": null,
      "metadata": {
        "colab": {
          "base_uri": "https://localhost:8080/"
        },
        "id": "ysOXUt0CnU8k",
        "outputId": "c40fcf6c-1ba7-4c6a-cea4-e5ac1e95d5df"
      },
      "outputs": [
        {
          "name": "stdout",
          "output_type": "stream",
          "text": [
            "Epoch 1/6\n",
            "57/57 [==============================] - 108s 2s/step - loss: 0.6853 - accuracy: 0.5532 - val_loss: 0.6651 - val_accuracy: 0.6087\n",
            "Epoch 2/6\n",
            "57/57 [==============================] - 86s 2s/step - loss: 0.5359 - accuracy: 0.7456 - val_loss: 0.6212 - val_accuracy: 0.6750\n",
            "Epoch 3/6\n",
            "57/57 [==============================] - 89s 2s/step - loss: 0.2748 - accuracy: 0.8957 - val_loss: 0.6787 - val_accuracy: 0.6862\n",
            "Epoch 4/6\n",
            "57/57 [==============================] - 83s 1s/step - loss: 0.1568 - accuracy: 0.9408 - val_loss: 0.8095 - val_accuracy: 0.6900\n",
            "Epoch 5/6\n",
            "57/57 [==============================] - 83s 1s/step - loss: 0.1214 - accuracy: 0.9526 - val_loss: 0.8325 - val_accuracy: 0.6938\n",
            "Epoch 6/6\n",
            "57/57 [==============================] - 90s 2s/step - loss: 0.1114 - accuracy: 0.9564 - val_loss: 0.8407 - val_accuracy: 0.6925\n",
            "Model: \"sequential_5\"\n",
            "_________________________________________________________________\n",
            " Layer (type)                Output Shape              Param #   \n",
            "=================================================================\n",
            " embedding_5 (Embedding)     (None, None, 128)         8910592   \n",
            "                                                                 \n",
            " bidirectional_5 (Bidirectio  (None, 512)              788480    \n",
            " nal)                                                            \n",
            "                                                                 \n",
            " dropout_1 (Dropout)         (None, 512)               0         \n",
            "                                                                 \n",
            " dense_5 (Dense)             (None, 1)                 513       \n",
            "                                                                 \n",
            "=================================================================\n",
            "Total params: 9,699,585\n",
            "Trainable params: 9,699,585\n",
            "Non-trainable params: 0\n",
            "_________________________________________________________________\n",
            "None\n"
          ]
        }
      ],
      "source": [
        "model = Sequential()\n",
        "model.add(Embedding(vocab_size, embedding_dim, mask_zero=True)) #Word Embedding\n",
        "model.add(Bidirectional(LSTM(hidden_units)))\n",
        "model.add(Dropout(.5))\n",
        "model.add(Dense(1, activation=('sigmoid')))\n",
        "model.compile(loss='binary_crossentropy', optimizer=Adam(0.001), metrics=['accuracy'])\n",
        "X_train, X_test, y_train, y_test = train_test_split(X[:10000], y[:10000], test_size=.2, random_state=777)\n",
        "history = model.fit(X_train, y_train, batch_size=128, epochs=6, validation_split=0.1)\n",
        "print(model.summary())"
      ]
    },
    {
      "cell_type": "code",
      "execution_count": null,
      "metadata": {
        "id": "NxokY6HCEqC0"
      },
      "outputs": [],
      "source": [
        "model.save('/content/drive/MyDrive/Ko-KWFPUNK.h5')"
      ]
    },
    {
      "cell_type": "code",
      "execution_count": null,
      "metadata": {
        "id": "6H0ttrQKnVvg"
      },
      "outputs": [],
      "source": [
        "from tensorflow.python.framework.func_graph import save_context\n",
        "from wordcloud import WordCloud\n",
        "from collections import Counter\n",
        "def pred(text : str):\n",
        "  test_data = []\n",
        "  text = re.sub(r'\\([^)]*\\)' , \"\", text)\n",
        "  text = re.sub(r'\\[[^)]*\\]' , \"\", text)\n",
        "  text = re.sub(r\"[^\\uAC00-\\uD7A30-9a-zA-Z\\s.-]\", \"\", text)\n",
        "  sents = kss.split_sentences(text)\n",
        "  keywords = []\n",
        "  noun_list = []\n",
        "  for sent in sents:\n",
        "    count = 0\n",
        "    if(text.replace(\" \", '') != \"\"):\n",
        "      tokens = han.pos(sent)\n",
        "    for index, (word, pos) in enumerate(tokens):\n",
        "      if pos == 'N':\n",
        "        count += 1\n",
        "        noun_list.append(word)\n",
        "    now = -1\n",
        "    while(count>0):\n",
        "      x = []\n",
        "      flag = 0\n",
        "      for index, (word, pos) in enumerate(tokens):\n",
        "        if pos == 'N' and now < index and flag == 0:\n",
        "          flag = 1\n",
        "          now = index\n",
        "          x.append(1)\n",
        "        elif word in tokenizer.word_index:\n",
        "          x.append(tokenizer.word_index[word])\n",
        "        else:\n",
        "          x.append(1)\n",
        "      test_data.append(x)\n",
        "      count -= 1\n",
        "  test_data = pad_sequences(test_data, padding='post', maxlen=max_len)\n",
        "  y_pred = model.predict(test_data)\n",
        "  print(y_pred)\n",
        "  for index, predict in enumerate(y_pred):\n",
        "    if predict > 0.5:\n",
        "      print(noun_list[index])\n",
        "      keywords.append(noun_list[index])\n",
        "  keywords = Counter(keywords)\n",
        "  print(keywords)\n",
        "  wc = WordCloud(font_path = path, width=400, height=400, scale=2.0, max_font_size=250)\n",
        "  gen = wc.generate_from_frequencies(Counter(keywords))\n",
        "  plt.figure()\n",
        "  plt.imshow(gen)"
      ]
    },
    {
      "cell_type": "code",
      "execution_count": null,
      "metadata": {
        "colab": {
          "base_uri": "https://localhost:8080/",
          "height": 164
        },
        "id": "Q3YQUQ6EoT6t",
        "outputId": "a506ed61-74a1-4017-e368-ea3dba99dab1"
      },
      "outputs": [
        {
          "output_type": "error",
          "ename": "NameError",
          "evalue": "ignored",
          "traceback": [
            "\u001b[0;31m---------------------------------------------------------------------------\u001b[0m",
            "\u001b[0;31mNameError\u001b[0m                                 Traceback (most recent call last)",
            "\u001b[0;32m<ipython-input-1-d653aa3357cb>\u001b[0m in \u001b[0;36m<module>\u001b[0;34m\u001b[0m\n\u001b[0;32m----> 1\u001b[0;31m \u001b[0mpred\u001b[0m\u001b[0;34m(\u001b[0m\u001b[0;34m'\"\"\"'\u001b[0m \u001b[0;34m+\u001b[0m \u001b[0minput\u001b[0m\u001b[0;34m(\u001b[0m\u001b[0;34m\"한국어 text를 입력해주세요.\"\u001b[0m\u001b[0;34m)\u001b[0m \u001b[0;34m+\u001b[0m \u001b[0;34m'\"\"\"'\u001b[0m\u001b[0;34m)\u001b[0m\u001b[0;34m\u001b[0m\u001b[0;34m\u001b[0m\u001b[0m\n\u001b[0m",
            "\u001b[0;31mNameError\u001b[0m: name 'pred' is not defined"
          ]
        }
      ],
      "source": [
        "pred('\"\"\"' + input(\"한국어 text를 입력해주세요.\") + '\"\"\"')"
      ]
    },
    {
      "cell_type": "code",
      "execution_count": null,
      "metadata": {
        "colab": {
          "base_uri": "https://localhost:8080/",
          "height": 286
        },
        "id": "9FIpHDDUognh",
        "outputId": "9e6629c3-ce52-4e2d-8e9f-9b51e86d19fa"
      },
      "outputs": [
        {
          "output_type": "execute_result",
          "data": {
            "text/plain": [
              "<matplotlib.image.AxesImage at 0x7f61b4ed18e0>"
            ]
          },
          "metadata": {},
          "execution_count": 13
        },
        {
          "output_type": "display_data",
          "data": {
            "text/plain": [
              "<Figure size 432x288 with 1 Axes>"
            ],
            "image/png": "[encoded data removed]"
          },
          "metadata": {
            "needs_background": "light"
          }
        }
      ],
      "source": [
        "kp = [(49996, '서비스'), (41834, '기업'), (33440, '데이터'), (32562, '디지털'), (28158, '사업'), (26960, '활용'), (26876, '제공'), (25780, '플랫폼'), (24436, '분야')]\n",
        "d = {}\n",
        "for i , j in kp:\n",
        "  d[j] = i\n",
        "\n",
        "wc = WordCloud(font_path = path, width=400, height=400, scale=2.0, max_font_size=250)\n",
        "gen = wc.generate_from_frequencies(d)\n",
        "plt.figure()\n",
        "plt.imshow(gen)"
      ]
    },
    {
      "cell_type": "code",
      "execution_count": null,
      "metadata": {
        "id": "5jQbfxWlvs1A"
      },
      "outputs": [],
      "source": []
    }
  ],
  "metadata": {
    "accelerator": "GPU",
    "colab": {
      "provenance": [],
      "include_colab_link": true
    },
    "gpuClass": "standard",
    "kernelspec": {
      "display_name": "Python 3",
      "name": "python3"
    },
    "language_info": {
      "name": "python"
    }
  },
  "nbformat": 4,
  "nbformat_minor": 0
}