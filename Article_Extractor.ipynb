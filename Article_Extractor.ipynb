{
  "cells": [
    {
      "cell_type": "markdown",
      "metadata": {
        "id": "view-in-github",
        "colab_type": "text"
      },
      "source": [
        "<a href=\"https://colab.research.google.com/github/PPareun/DeepLearningTextBook/blob/main/Article_Extractor.ipynb\" target=\"_parent\"><img src=\"https://colab.research.google.com/assets/colab-badge.svg\" alt=\"Open In Colab\"/></a>"
      ]
    },
    {
      "cell_type": "code",
      "execution_count": 8,
      "metadata": {
        "id": "PAGglVjvit9y",
        "colab": {
          "base_uri": "https://localhost:8080/"
        },
        "outputId": "c3034ec7-4a27-4d3c-840a-a6056e26a966"
      },
      "outputs": [
        {
          "output_type": "stream",
          "name": "stdout",
          "text": [
            "Looking in indexes: https://pypi.org/simple, https://us-python.pkg.dev/colab-wheels/public/simple/\n",
            "Requirement already satisfied: konlpy in /usr/local/lib/python3.8/dist-packages (0.6.0)\n",
            "Requirement already satisfied: numpy>=1.6 in /usr/local/lib/python3.8/dist-packages (from konlpy) (1.21.6)\n",
            "Requirement already satisfied: lxml>=4.1.0 in /usr/local/lib/python3.8/dist-packages (from konlpy) (4.9.2)\n",
            "Requirement already satisfied: JPype1>=0.7.0 in /usr/local/lib/python3.8/dist-packages (from konlpy) (1.4.1)\n",
            "Requirement already satisfied: packaging in /usr/local/lib/python3.8/dist-packages (from JPype1>=0.7.0->konlpy) (21.3)\n",
            "Requirement already satisfied: pyparsing!=3.0.5,>=2.0.2 in /usr/local/lib/python3.8/dist-packages (from packaging->JPype1>=0.7.0->konlpy) (3.0.9)\n"
          ]
        }
      ],
      "source": [
        "!pip install konlpy"
      ]
    },
    {
      "cell_type": "code",
      "execution_count": 9,
      "metadata": {
        "id": "PKiS27kHIGh6",
        "colab": {
          "base_uri": "https://localhost:8080/"
        },
        "outputId": "2bd6f935-1954-450e-ae20-1053ed2fd128"
      },
      "outputs": [
        {
          "output_type": "stream",
          "name": "stdout",
          "text": [
            "Looking in indexes: https://pypi.org/simple, https://us-python.pkg.dev/colab-wheels/public/simple/\n",
            "Requirement already satisfied: trafilatura in /usr/local/lib/python3.8/dist-packages (1.4.0)\n",
            "Requirement already satisfied: justext>=3.0.0 in /usr/local/lib/python3.8/dist-packages (from trafilatura) (3.0.0)\n",
            "Requirement already satisfied: urllib3<2,>=1.26 in /usr/local/lib/python3.8/dist-packages (from trafilatura) (1.26.13)\n",
            "Requirement already satisfied: charset-normalizer>=2.1.1 in /usr/local/lib/python3.8/dist-packages (from trafilatura) (3.0.1)\n",
            "Requirement already satisfied: certifi in /usr/local/lib/python3.8/dist-packages (from trafilatura) (2022.12.7)\n",
            "Requirement already satisfied: courlan>=0.8.3 in /usr/local/lib/python3.8/dist-packages (from trafilatura) (0.8.3)\n",
            "Requirement already satisfied: lxml>=4.6.4 in /usr/local/lib/python3.8/dist-packages (from trafilatura) (4.9.2)\n",
            "Requirement already satisfied: htmldate>=1.3.2 in /usr/local/lib/python3.8/dist-packages (from trafilatura) (1.4.1)\n",
            "Requirement already satisfied: tld>=0.12.6 in /usr/local/lib/python3.8/dist-packages (from courlan>=0.8.3->trafilatura) (0.12.6)\n",
            "Requirement already satisfied: langcodes>=3.3.0 in /usr/local/lib/python3.8/dist-packages (from courlan>=0.8.3->trafilatura) (3.3.0)\n",
            "Requirement already satisfied: dateparser>=1.1.2 in /usr/local/lib/python3.8/dist-packages (from htmldate>=1.3.2->trafilatura) (1.1.5)\n",
            "Requirement already satisfied: python-dateutil>=2.8.2 in /usr/local/lib/python3.8/dist-packages (from htmldate>=1.3.2->trafilatura) (2.8.2)\n",
            "Requirement already satisfied: tzlocal in /usr/local/lib/python3.8/dist-packages (from dateparser>=1.1.2->htmldate>=1.3.2->trafilatura) (1.5.1)\n",
            "Requirement already satisfied: regex!=2019.02.19,!=2021.8.27 in /usr/local/lib/python3.8/dist-packages (from dateparser>=1.1.2->htmldate>=1.3.2->trafilatura) (2022.6.2)\n",
            "Requirement already satisfied: pytz in /usr/local/lib/python3.8/dist-packages (from dateparser>=1.1.2->htmldate>=1.3.2->trafilatura) (2022.7)\n",
            "Requirement already satisfied: six>=1.5 in /usr/local/lib/python3.8/dist-packages (from python-dateutil>=2.8.2->htmldate>=1.3.2->trafilatura) (1.15.0)\n"
          ]
        }
      ],
      "source": [
        "!pip install trafilatura"
      ]
    },
    {
      "cell_type": "code",
      "execution_count": 10,
      "metadata": {
        "id": "kseaC6glC1Ka"
      },
      "outputs": [],
      "source": [
        "from trafilatura import fetch_url, extract\n",
        "def content(url: str):\n",
        "    doc = fetch_url(url)\n",
        "    return (extract(doc))"
      ]
    },
    {
      "cell_type": "code",
      "execution_count": 11,
      "metadata": {
        "colab": {
          "base_uri": "https://localhost:8080/"
        },
        "id": "Omaa-_YqJrYF",
        "outputId": "db24f746-a2f8-4d27-c1c3-15e94982b9e4"
      },
      "outputs": [
        {
          "output_type": "stream",
          "name": "stdout",
          "text": [
            "Drive already mounted at /content/drive; to attempt to forcibly remount, call drive.mount(\"/content/drive\", force_remount=True).\n"
          ]
        }
      ],
      "source": [
        "from google.colab import drive\n",
        "drive.mount('/content/drive')"
      ]
    },
    {
      "cell_type": "code",
      "execution_count": 12,
      "metadata": {
        "id": "hIyfn0-TOo12"
      },
      "outputs": [],
      "source": [
        "import pandas as pd\n",
        "import pickle"
      ]
    },
    {
      "cell_type": "code",
      "execution_count": 13,
      "metadata": {
        "id": "wBKSsQVROlS4",
        "colab": {
          "base_uri": "https://localhost:8080/"
        },
        "outputId": "22f4ca0f-8f18-4cfd-de4a-196133d1e437"
      },
      "outputs": [
        {
          "output_type": "stream",
          "name": "stderr",
          "text": [
            "/usr/local/lib/python3.8/dist-packages/openpyxl/styles/stylesheet.py:226: UserWarning: Workbook contains no default style, apply openpyxl's default\n",
            "  warn(\"Workbook contains no default style, apply openpyxl's default\")\n"
          ]
        }
      ],
      "source": [
        "dfA = pd.read_excel('/content/drive/MyDrive/Colab Notebooks/AI.xlsx')\n",
        "dfN = pd.read_excel('/content/drive/MyDrive/Colab Notebooks/NAI1.xlsx')\n",
        "urlA = dfA['URL']\n",
        "urlN = dfN['URL']\n",
        "AI = []\n",
        "NAI = []\n",
        "count = 0"
      ]
    },
    {
      "cell_type": "code",
      "execution_count": 14,
      "metadata": {
        "id": "GaEKhY98E85w"
      },
      "outputs": [],
      "source": [
        "with open('/content/drive/MyDrive/Colab Notebooks/AI.pkl', 'rb') as f:\n",
        "  AI = pickle.load(f)\n",
        "with open('/content/drive/MyDrive/Colab Notebooks/NAI.pkl', 'rb') as f:\n",
        "  NAI = pickle.load(f)"
      ]
    },
    {
      "cell_type": "code",
      "execution_count": null,
      "metadata": {
        "id": "-bIB4laTO6ca"
      },
      "outputs": [],
      "source": [
        "\"\"\"for index,(urla,urln) in enumerate(zip(urlA[8077:],urlN[8077:])):\n",
        "  try:\n",
        "    AI.append(content(urla))\n",
        "    NAI.append(content(urln))\n",
        "    if(index%10 == 0):\n",
        "      with open('/content/drive/MyDrive/Colab Notebooks/AI.pkl', 'wb') as f:\n",
        "        pickle.dump(AI,f)\n",
        "      with open('/content/drive/MyDrive/Colab Notebooks/NAI.pkl', 'wb') as f:\n",
        "        pickle.dump(NAI,f)\n",
        "  except:\n",
        "    count+=1\n",
        "  print(index)"
      ]
    },
    {
      "cell_type": "code",
      "execution_count": null,
      "metadata": {
        "id": "b38HNkPPSOGM"
      },
      "outputs": [],
      "source": [
        "!git clone https://github.com/SOMJANG/Mecab-ko-for-Google-Colab.git\n",
        "%cd Mecab-ko-for-Google-Colab\n",
        "!bash install_mecab-ko_on_colab190912.sh"
      ]
    },
    {
      "cell_type": "code",
      "execution_count": 16,
      "metadata": {
        "id": "VXyeXgBTissy"
      },
      "outputs": [],
      "source": [
        "from konlpy.tag import Mecab\n",
        "mecab = Mecab()"
      ]
    },
    {
      "cell_type": "code",
      "execution_count": 17,
      "metadata": {
        "id": "Lo-E7em3vg-_"
      },
      "outputs": [],
      "source": [
        "import pandas as pd\n",
        "import numpy as np\n",
        "import matplotlib.pyplot as plt\n",
        "import urllib.request\n",
        "import tensorflow as tf\n",
        "from collections import Counter\n",
        "from sklearn.model_selection import train_test_split\n",
        "from tensorflow.keras.preprocessing.text import Tokenizer\n",
        "from tensorflow.keras.preprocessing.sequence import pad_sequences\n",
        "import re"
      ]
    },
    {
      "cell_type": "code",
      "execution_count": 18,
      "metadata": {
        "id": "rWdfrgUL-OwP"
      },
      "outputs": [],
      "source": [
        "y_data = [1 for _ in range(len(AI))] +[0 for _ in range(len(NAI))] "
      ]
    },
    {
      "cell_type": "code",
      "execution_count": 19,
      "metadata": {
        "id": "lWMWf1dL-mSd"
      },
      "outputs": [],
      "source": [
        "X_data = AI+NAI"
      ]
    },
    {
      "cell_type": "code",
      "execution_count": 20,
      "metadata": {
        "id": "A0a8ggQODmxw",
        "colab": {
          "base_uri": "https://localhost:8080/"
        },
        "outputId": "19f7b98e-fcdc-406c-c809-f25776617ca9"
      },
      "outputs": [
        {
          "output_type": "stream",
          "name": "stdout",
          "text": [
            "15942\n"
          ]
        }
      ],
      "source": [
        "print(len(y_data))"
      ]
    },
    {
      "cell_type": "code",
      "execution_count": 21,
      "metadata": {
        "id": "oAvt4joxvwJc"
      },
      "outputs": [],
      "source": [
        "tokenizer = Tokenizer(num_words = 150, oov_token='<UNK>')\n",
        "X = []\n",
        "y = []\n",
        "none_count = 0\n",
        "for index, text in enumerate(X_data):\n",
        "  try:\n",
        "    text = re.sub(r'\\([^)]*\\)' , \"\", text)\n",
        "    text = re.sub(r'\\[[^)]*\\]' , \"\", text)\n",
        "    text = re.sub(r\"[^\\uAC00-\\uD7A30-9a-zA-Z\\s-]\", \"\", text)\n",
        "    text = re.sub(r'\\n',\" \",text)\n",
        "    if(text.replace(\" \", '') != \"\"):\n",
        "      X.append(list(mecab.nouns(text)))\n",
        "      y.append(y_data[index])\n",
        "  except:\n",
        "    none_count += 1\n",
        "tokenizer.fit_on_texts(X)"
      ]
    },
    {
      "cell_type": "code",
      "execution_count": 22,
      "metadata": {
        "id": "1kbYZdjzBfiw"
      },
      "outputs": [],
      "source": [
        "X_data = []\n",
        "for sent in X:\n",
        "  s = []\n",
        "  for word in sent:\n",
        "    if word in tokenizer.word_index:\n",
        "      s.append(tokenizer.word_index[word])\n",
        "    else:\n",
        "      s.append(1)\n",
        "  X_data.append(s)"
      ]
    },
    {
      "cell_type": "code",
      "execution_count": 17,
      "metadata": {
        "colab": {
          "base_uri": "https://localhost:8080/",
          "height": 330
        },
        "id": "rk2XaOlFzWBT",
        "outputId": "8dcc0ae9-daac-4f3b-c860-5a6ee31b6a41"
      },
      "outputs": [
        {
          "output_type": "stream",
          "name": "stdout",
          "text": [
            "Max_len : 4864\n",
            "Avg_len : 237.016788\n",
            "data < max_len : 0.959482\n"
          ]
        },
        {
          "output_type": "display_data",
          "data": {
            "text/plain": [
              "<Figure size 432x288 with 1 Axes>"
            ],
            "image/png": "[encoded data removed]"
          },
          "metadata": {
            "needs_background": "light"
          }
        }
      ],
      "source": [
        "print('Max_len : %d' % max(len(sample) for sample in X_data))\n",
        "print('Avg_len : %f' % (sum(map(len, X_data))/len(X_data)))\n",
        "count = 0\n",
        "for sample in X_data:\n",
        "  if len(sample) < 600:\n",
        "    count += 1\n",
        "print('data < max_len : %f' % (count/len(X_data)))\n",
        "plt.hist([len(sample) for sample in X_data], bins=50)\n",
        "plt.xlabel('length')\n",
        "plt.ylabel('#')\n",
        "plt.show()"
      ]
    },
    {
      "cell_type": "code",
      "execution_count": 26,
      "metadata": {
        "id": "cisjUhpovr8d"
      },
      "outputs": [],
      "source": [
        "max_len = 600\n",
        "vocab_size = len(tokenizer.word_index)+1\n",
        "embedding_dim = 256\n",
        "hidden_units = 512"
      ]
    },
    {
      "cell_type": "code",
      "execution_count": 27,
      "metadata": {
        "id": "eQOiAkESCaDz"
      },
      "outputs": [],
      "source": [
        "X_data = pad_sequences(X_data, maxlen = max_len)\n",
        "y_data = np.array(y)"
      ]
    },
    {
      "cell_type": "code",
      "execution_count": 28,
      "metadata": {
        "colab": {
          "base_uri": "https://localhost:8080/"
        },
        "id": "72f1nF-dEtMh",
        "outputId": "1ad553d6-ae6a-46a8-9642-f4d90e4469b7"
      },
      "outputs": [
        {
          "output_type": "stream",
          "name": "stdout",
          "text": [
            "0\n"
          ]
        }
      ],
      "source": [
        "print(len(X_data)-len(y_data))"
      ]
    },
    {
      "cell_type": "code",
      "execution_count": 23,
      "metadata": {
        "id": "Ile3hwU8zkzc"
      },
      "outputs": [],
      "source": [
        "from tensorflow.keras import models\n",
        "from tensorflow.keras.models import Sequential\n",
        "from tensorflow.keras.layers import Dense, LSTM,  Bidirectional, Embedding, Dropout, Flatten\n",
        "from tensorflow.keras.optimizers import Adam\n",
        "from tensorflow.keras.callbacks import EarlyStopping"
      ]
    },
    {
      "cell_type": "code",
      "execution_count": 29,
      "metadata": {
        "colab": {
          "base_uri": "https://localhost:8080/"
        },
        "id": "ZU4VRBBaznu6",
        "outputId": "c1a73d1c-306f-4dce-bac5-ebdaa8dbe3e1"
      },
      "outputs": [
        {
          "output_type": "stream",
          "name": "stdout",
          "text": [
            "Epoch 1/6\n",
            "357/357 [==============================] - 1085s 3s/step - loss: 0.4532 - accuracy: 0.7963 - val_loss: 0.4046 - val_accuracy: 0.8178\n",
            "Epoch 2/6\n",
            "357/357 [==============================] - 1109s 3s/step - loss: 0.2459 - accuracy: 0.8983 - val_loss: 0.2580 - val_accuracy: 0.8896\n",
            "Epoch 3/6\n",
            "357/357 [==============================] - 1091s 3s/step - loss: 0.1549 - accuracy: 0.9367 - val_loss: 0.2095 - val_accuracy: 0.9188\n",
            "Epoch 4/6\n",
            "357/357 [==============================] - 1063s 3s/step - loss: 0.0969 - accuracy: 0.9604 - val_loss: 0.2527 - val_accuracy: 0.9077\n",
            "Epoch 5/6\n",
            "357/357 [==============================] - 1062s 3s/step - loss: 0.0605 - accuracy: 0.9760 - val_loss: 0.3474 - val_accuracy: 0.8912\n",
            "Epoch 6/6\n",
            "357/357 [==============================] - 1042s 3s/step - loss: 0.0407 - accuracy: 0.9822 - val_loss: 0.3312 - val_accuracy: 0.9038\n",
            "Model: \"sequential_1\"\n",
            "_________________________________________________________________\n",
            " Layer (type)                Output Shape              Param #   \n",
            "=================================================================\n",
            " embedding_1 (Embedding)     (None, 600, 256)          11437312  \n",
            "                                                                 \n",
            " bidirectional_1 (Bidirectio  (None, 1024)             3149824   \n",
            " nal)                                                            \n",
            "                                                                 \n",
            " flatten (Flatten)           (None, 1024)              0         \n",
            "                                                                 \n",
            " dense_1 (Dense)             (None, 16)                16400     \n",
            "                                                                 \n",
            " dense_2 (Dense)             (None, 1)                 17        \n",
            "                                                                 \n",
            "=================================================================\n",
            "Total params: 14,603,553\n",
            "Trainable params: 14,603,553\n",
            "Non-trainable params: 0\n",
            "_________________________________________________________________\n",
            "None\n"
          ]
        }
      ],
      "source": [
        "early_stopping = EarlyStopping(min_delta=0.001,patience=10,restore_best_weights=True)\n",
        "model = Sequential()\n",
        "model.add(Embedding(vocab_size, embedding_dim, mask_zero=True, input_length=max_len))\n",
        "model.add(Bidirectional(LSTM(hidden_units)))\n",
        "model.add(Flatten())\n",
        "model.add(Dense(16,activation = ('relu')))\n",
        "model.add(Dense(1, activation=('sigmoid')))\n",
        "model.compile(loss='binary_crossentropy', optimizer=Adam(0.001), metrics=['accuracy'])\n",
        "X_train, X_test, y_train, y_test = train_test_split(X_data, y_data, test_size=.2, random_state=777, shuffle = True)\n",
        "history = model.fit(X_train, y_train, batch_size=32, epochs=6, validation_split=0.1, callbacks = [early_stopping])\n",
        "print(model.summary())"
      ]
    },
    {
      "cell_type": "code",
      "source": [
        "model.save(\"/content/drive/MyDrive/Colab Notebooks/AITextClassifier_Bi_LSTM.h5\")"
      ],
      "metadata": {
        "id": "KXITGnBZJxB3"
      },
      "execution_count": 30,
      "outputs": []
    },
    {
      "cell_type": "code",
      "source": [
        "model_BiLSTM = models.load_model(\"/content/drive/MyDrive/Colab Notebooks/AITextClassifier_Bi_LSTM.h5\")\n",
        "model_Dense = models.load_model(\"/content/drive/MyDrive/Colab Notebooks/AITextClassifier_Dense.h5\")"
      ],
      "metadata": {
        "id": "8MfuvwKltWme"
      },
      "execution_count": 24,
      "outputs": []
    },
    {
      "cell_type": "code",
      "source": [
        "model_BiLSTM.evaluate(X_test, y_test)\n",
        "model_Dense.evaluate(X_test, y_test)"
      ],
      "metadata": {
        "colab": {
          "base_uri": "https://localhost:8080/"
        },
        "id": "3EeJNJGatfy7",
        "outputId": "3a15856e-2c02-4a18-b6ca-7d848b7b5602"
      },
      "execution_count": 31,
      "outputs": [
        {
          "output_type": "stream",
          "name": "stdout",
          "text": [
            "100/100 [==============================] - 31s 310ms/step - loss: 0.4094 - accuracy: 0.8914\n",
            "100/100 [==============================] - 0s 2ms/step - loss: 0.2585 - accuracy: 0.9012\n"
          ]
        },
        {
          "output_type": "execute_result",
          "data": {
            "text/plain": [
              "[0.2585310935974121, 0.9012306928634644]"
            ]
          },
          "metadata": {},
          "execution_count": 31
        }
      ]
    },
    {
      "cell_type": "code",
      "execution_count": null,
      "metadata": {
        "colab": {
          "base_uri": "https://localhost:8080/",
          "height": 282
        },
        "id": "uwzShllMQ2C5",
        "outputId": "243ea460-2899-424e-8890-013c38478b09"
      },
      "outputs": [
        {
          "output_type": "display_data",
          "data": {
            "text/plain": [
              "<Figure size 432x288 with 2 Axes>"
            ],
            "image/png": "[encoded data removed]"
          },
          "metadata": {
            "needs_background": "light"
          }
        }
      ],
      "source": [
        "fig, loss_ax = plt.subplots()\n",
        "acc_ax = loss_ax.twinx()\n",
        "\n",
        "loss_ax.plot(history.history['loss'], 'y', label='train loss')\n",
        "loss_ax.plot(history.history['val_loss'], 'r', label='val loss')\n",
        "loss_ax.set_xlabel('epoch')\n",
        "loss_ax.set_ylabel('loss')\n",
        "loss_ax.legend(loc='upper left')\n",
        "\n",
        "acc_ax.plot(history.history['accuracy'], 'b', label='train acc')\n",
        "acc_ax.plot(history.history['val_accuracy'], 'g', label='val acc')\n",
        "acc_ax.set_ylabel('accuracy')\n",
        "acc_ax.legend(loc='upper left')\n",
        "\n",
        "plt.show()"
      ]
    },
    {
      "cell_type": "code",
      "execution_count": 7,
      "metadata": {
        "id": "FMUcYWc3DXgY",
        "colab": {
          "base_uri": "https://localhost:8080/"
        },
        "outputId": "e788530b-2779-4344-e301-4f300774d52f"
      },
      "outputs": [
        {
          "output_type": "stream",
          "name": "stdout",
          "text": [
            "해당 URL은 유효하지 않습니다.\n"
          ]
        }
      ],
      "source": [
        "urls = ['list(urlN[3000:3020])']\n",
        "for url in urls:\n",
        "  try:\n",
        "    text = content(url)\n",
        "    text = re.sub(r'\\([^)]*\\)' , \"\", text)\n",
        "    text = re.sub(r'\\[[^)]*\\]' , \"\", text)\n",
        "    text = re.sub(r\"[^\\uAC00-\\uD7A30-9a-zA-Z\\s-]\", \"\", text)\n",
        "    if(text.replace(\" \", '') != \"\"):\n",
        "        tokens = list(mecab.nouns(text))\n",
        "    txt = []\n",
        "    for word in tokens:\n",
        "      if word in tokenizer.word_index:\n",
        "        txt.append(tokenizer.word_index[word])\n",
        "      else:\n",
        "        txt.append(1)\n",
        "    x = pad_sequences([txt], maxlen = max_len)\n",
        "    predict_BiLSTM = model(x)\n",
        "    predict_Dense = model_Dense.predict(x)\n",
        "    print(url)\n",
        "    print(\"해당 TEXT가 AI관련 뉴스일 확률은 {:2.3%}입니다.(Bi_LSTM)\".format(float(predict_BiLSTM[0])))\n",
        "    print(\"해당 TEXT가 AI관련 뉴스일 확률은 {:2.3%}입니다.(Dense)\".format(float(predict_Dense[0])))\n",
        "  except:\n",
        "    print(\"해당 URL은 유효하지 않습니다.\")"
      ]
    },
    {
      "cell_type": "code",
      "execution_count": null,
      "metadata": {
        "colab": {
          "base_uri": "https://localhost:8080/"
        },
        "id": "innhxFRrK0sT",
        "outputId": "20fea11a-d66b-4cb3-97c3-50db7d8f7a06"
      },
      "outputs": [
        {
          "name": "stdout",
          "output_type": "stream",
          "text": [
            "아직은 테크 기업이라 불리기 부족한 성적표자 이야기의 본 주제로 돌아와서,그래서 야놀자는 과연 테크 기업인가, 아닌가?\\n이 두 업체는 21년 클라우드 매출 비중에는 없던 사업영역으로 22년 상반기부터 야놀자 클라우드 부문에 추가된 항목들입니다.\\n호텔 PMS 시장의 특성야놀자가 테크 기업으로 변신하기 위해 정조준하고 있는 건 호텔 PMS 솔루션 시장입니다.\\n오라클을 경쟁업체처럼 부각해야 테크 기업으로써 야놀자의 면모가 부각되니 오라클을 팔아 마치 야놀자가 오라클의 경쟁기업이자 글로벌 테크 기업인 것처럼 포장하려는 전략입니다.\\n이제 야놀자는 모텔을 넘어서 펜션과 액티비티까지 아우를 수 있는 종합여행 플랫폼이 되었습니다... 만 아직도 많은 사람이 야놀자를 여가 플랫폼이 아니라 모텔 대실 플랫폼으로 인식합니다.\\n\n",
            "1/1 [==============================] - 0s 274ms/step\n",
            "해당 TEXT가 AI관련 뉴스일 확률은 99.869%입니다.\n"
          ]
        }
      ],
      "source": [
        "pred(input())"
      ]
    },
    {
      "cell_type": "code",
      "execution_count": 46,
      "metadata": {
        "id": "IOS6l0huLp05",
        "colab": {
          "base_uri": "https://localhost:8080/"
        },
        "outputId": "e573e2ee-7560-4b94-f354-16899adbc529"
      },
      "outputs": [
        {
          "output_type": "stream",
          "name": "stdout",
          "text": [
            "1/1 [==============================] - 0s 433ms/step\n",
            "1/1 [==============================] - 0s 19ms/step\n",
            "해당 TEXT가 AI관련 뉴스일 확률은 71.383%입니다.(Bi_LSTM)\n",
            "해당 TEXT가 AI관련 뉴스일 확률은 86.685%입니다.(Dense)\n"
          ]
        }
      ],
      "source": [
        "text = \"\"\"아직은 테크 기업이라 불리기 부족한 성적표자 이야기의 본 주제로 돌아와서,그래서 야놀자는 과연 테크 기업인가, 아닌가?\\n이 두 업체는 21년 클라우드 매출 비중에는 없던 사업영역으로 22년 상반기부터 야놀자 클라우드 부문에 추가된 항목들입니다.\\n호텔 PMS 시장의 특성야놀자가 테크 기업으로 변신하기 위해 정조준하고 있는 건 호텔 PMS 솔루션 시장입니다.\\n오라클을 경쟁업체처럼 부각해야 테크 기업으로써 야놀자의 면모가 부각되니 오라클을 팔아 마치 야놀자가 오라클의 경쟁기업이자 글로벌 테크 기업인 것처럼 포장하려는 전략입니다.\\n이제 야놀자는 모텔을 넘어서 펜션과 액티비티까지 아우를 수 있는 종합여행 플랫폼이 되었습니다... 만 아직도 많은 사람이 야놀자를 여가 플랫폼이 아니라 모텔 대실 플랫폼으로 인식합니다.\\n\"\"\"\n",
        "text = re.sub(r'\\([^)]*\\)' , \"\", text)\n",
        "text = re.sub(r'\\[[^)]*\\]' , \"\", text)\n",
        "text = re.sub(r\"[^\\uAC00-\\uD7A30-9a-zA-Z\\s-]\", \"\", text)\n",
        "if(text.replace(\" \", '') != \"\"):\n",
        "  tokens = list(mecab.nouns(text))\n",
        "  txt = []\n",
        "  for word in tokens:\n",
        "    if word in tokenizer.word_index:\n",
        "      txt.append(tokenizer.word_index[word])\n",
        "    else:\n",
        "      txt.append(1)\n",
        "x = pad_sequences([txt], maxlen = max_len)\n",
        "predict_BiLSTM = model_BiLSTM.predict(x)\n",
        "predict_Dense = model_Dense.predict(x)\n",
        "print(\"해당 TEXT가 AI관련 뉴스일 확률은 {:2.3%}입니다.(Bi_LSTM)\".format(float(predict_BiLSTM[0])))\n",
        "print(\"해당 TEXT가 AI관련 뉴스일 확률은 {:2.3%}입니다.(Dense)\".format(float(predict_Dense[0])))"
      ]
    },
    {
      "cell_type": "code",
      "source": [],
      "metadata": {
        "id": "8V-5hDm2QaMT"
      },
      "execution_count": null,
      "outputs": []
    }
  ],
  "metadata": {
    "accelerator": "GPU",
    "colab": {
      "provenance": [],
      "authorship_tag": "ABX9TyPudnKsXZIg6DaxAaKaDnfG",
      "include_colab_link": true
    },
    "gpuClass": "standard",
    "kernelspec": {
      "display_name": "Python 3",
      "name": "python3"
    },
    "language_info": {
      "name": "python"
    }
  },
  "nbformat": 4,
  "nbformat_minor": 0
}